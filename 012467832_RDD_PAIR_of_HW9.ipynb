{
  "nbformat": 4,
  "nbformat_minor": 0,
  "metadata": {
    "colab": {
      "name": "012467832- RDD-PAIR of HW9",
      "provenance": [],
      "collapsed_sections": [],
      "include_colab_link": true
    },
    "kernelspec": {
      "name": "python3",
      "display_name": "Python 3"
    }
  },
  "cells": [
    {
      "cell_type": "markdown",
      "metadata": {
        "id": "view-in-github",
        "colab_type": "text"
      },
      "source": [
        "<a href=\"https://colab.research.google.com/github/sindhu819/Spark-2020/blob/main/012467832_RDD_PAIR_of_HW9.ipynb\" target=\"_parent\"><img src=\"https://colab.research.google.com/assets/colab-badge.svg\" alt=\"Open In Colab\"/></a>"
      ]
    },
    {
      "cell_type": "markdown",
      "metadata": {
        "id": "sq8U3BtmhtRx"
      },
      "source": [
        "\n",
        "# **HW 9:RDD pair Operation** #\n",
        "\n",
        "To run spark in Colab, we need to first install pyspark\n"
      ]
    },
    {
      "cell_type": "code",
      "metadata": {
        "id": "hofqR6k12zss",
        "colab": {
          "base_uri": "https://localhost:8080/",
          "height": 442
        },
        "outputId": "f9f7c171-8c29-4dfa-ffa0-b71ec60b94b1"
      },
      "source": [
        "!apt-get update\n",
        "!apt-get install openjdk-8-jdk-headless -qq > /dev/null\n",
        "!wget -q http://apache.osuosl.org/spark/spark-2.4.4/spark-2.4.4-bin-hadoop2.7.tgz\n",
        "!tar xf spark-2.4.4-bin-hadoop2.7.tgz\n",
        "!pip install -q findspark\n",
        "\n",
        "import os\n",
        "os.environ[\"JAVA_HOME\"] = \"/usr/lib/jvm/java-8-openjdk-amd64\"\n",
        "os.environ[\"SPARK_HOME\"] = \"/content/spark-2.4.4-bin-hadoop2.7\"\n",
        "\n",
        "import findspark\n",
        "findspark.init()\n",
        "from pyspark.sql import SparkSession\n",
        "spark = SparkSession.builder.master(\"local[*]\").getOrCreate()"
      ],
      "execution_count": null,
      "outputs": [
        {
          "output_type": "stream",
          "text": [
            "\r0% [Working]\r            \rGet:1 https://cloud.r-project.org/bin/linux/ubuntu bionic-cran35/ InRelease [3,626 B]\n",
            "\r0% [Connecting to archive.ubuntu.com (91.189.88.149)] [Waiting for headers] [1 \r0% [Connecting to archive.ubuntu.com (91.189.88.149)] [Waiting for headers] [Wa\r                                                                               \rIgn:2 https://developer.download.nvidia.com/compute/cuda/repos/ubuntu1804/x86_64  InRelease\n",
            "\r0% [Connecting to archive.ubuntu.com (91.189.88.149)] [Waiting for headers] [Wa\r0% [1 InRelease gpgv 3,626 B] [Connecting to archive.ubuntu.com (91.189.88.149)\r                                                                               \rIgn:3 https://developer.download.nvidia.com/compute/machine-learning/repos/ubuntu1804/x86_64  InRelease\n",
            "\r0% [1 InRelease gpgv 3,626 B] [Connecting to archive.ubuntu.com (91.189.88.149)\r                                                                               \rGet:4 http://security.ubuntu.com/ubuntu bionic-security InRelease [88.7 kB]\n",
            "\r0% [1 InRelease gpgv 3,626 B] [Connecting to archive.ubuntu.com (91.189.88.149)\r                                                                               \rHit:5 https://developer.download.nvidia.com/compute/cuda/repos/ubuntu1804/x86_64  Release\n",
            "Hit:6 https://developer.download.nvidia.com/compute/machine-learning/repos/ubuntu1804/x86_64  Release\n",
            "Hit:7 http://ppa.launchpad.net/graphics-drivers/ppa/ubuntu bionic InRelease\n",
            "Hit:8 http://archive.ubuntu.com/ubuntu bionic InRelease\n",
            "Get:9 https://cloud.r-project.org/bin/linux/ubuntu bionic-cran35/ Packages [74.3 kB]\n",
            "Get:10 http://ppa.launchpad.net/marutter/c2d4u3.5/ubuntu bionic InRelease [15.4 kB]\n",
            "Get:12 http://archive.ubuntu.com/ubuntu bionic-updates InRelease [88.7 kB]\n",
            "Get:14 http://archive.ubuntu.com/ubuntu bionic-backports InRelease [74.6 kB]\n",
            "Get:15 http://security.ubuntu.com/ubuntu bionic-security/main amd64 Packages [735 kB]\n",
            "Get:16 http://ppa.launchpad.net/marutter/c2d4u3.5/ubuntu bionic/main Sources [1,720 kB]\n",
            "Get:17 http://security.ubuntu.com/ubuntu bionic-security/universe amd64 Packages [786 kB]\n",
            "Get:18 http://archive.ubuntu.com/ubuntu bionic-updates/universe amd64 Packages [1,312 kB]\n",
            "Get:19 http://security.ubuntu.com/ubuntu bionic-security/multiverse amd64 Packages [6,508 B]\n",
            "Get:20 http://security.ubuntu.com/ubuntu bionic-security/restricted amd64 Packages [16.8 kB]\n",
            "Get:21 http://ppa.launchpad.net/marutter/c2d4u3.5/ubuntu bionic/main amd64 Packages [828 kB]\n",
            "Get:22 http://archive.ubuntu.com/ubuntu bionic-updates/main amd64 Packages [1,031 kB]\n",
            "Get:23 http://archive.ubuntu.com/ubuntu bionic-updates/restricted amd64 Packages [29.9 kB]\n",
            "Get:24 http://archive.ubuntu.com/ubuntu bionic-updates/multiverse amd64 Packages [9,578 B]\n",
            "Get:25 http://archive.ubuntu.com/ubuntu bionic-backports/universe amd64 Packages [4,235 B]\n",
            "Fetched 6,824 kB in 5s (1,342 kB/s)\n",
            "Reading package lists... Done\n"
          ],
          "name": "stdout"
        }
      ]
    },
    {
      "cell_type": "code",
      "metadata": {
        "id": "fxPoVgDE7nbz"
      },
      "source": [
        "from pyspark import SparkContext\n",
        "sc = spark.sparkContext"
      ],
      "execution_count": null,
      "outputs": []
    },
    {
      "cell_type": "markdown",
      "metadata": {
        "id": "r1hlQxTyQ3f4"
      },
      "source": [
        "###We will import an csv file to illustrate some more RDD opearations."
      ]
    },
    {
      "cell_type": "code",
      "metadata": {
        "id": "1WbzJM4cYp1I"
      },
      "source": [
        "#1 Code to read csv file into colaboratory:\n",
        "!pip install -U -q PyDrive\n",
        "from pydrive.auth import GoogleAuth\n",
        "from pydrive.drive import GoogleDrive\n",
        "from google.colab import auth\n",
        "from oauth2client.client import GoogleCredentials\n",
        "\n",
        "# 1. Authenticate and create the PyDrive client.\n",
        "auth.authenticate_user()\n",
        "gauth = GoogleAuth()\n",
        "gauth.credentials = GoogleCredentials.get_application_default()\n",
        "drive = GoogleDrive(gauth)"
      ],
      "execution_count": null,
      "outputs": []
    },
    {
      "cell_type": "code",
      "metadata": {
        "id": "ubjxW9IrYrMG"
      },
      "source": [
        "#2. Get the file\n",
        "#make sure you upload all your data files to your Google drive and change share->Advanced->change->anyone with the link can view\n",
        "downloaded = drive.CreateFile({'id':'1ilCXuYltyjv1auHn8FY_Csksep9gz03c'}) # replace the id with id of file you want to access\n",
        "downloaded.GetContentFile('video-years.csv')"
      ],
      "execution_count": null,
      "outputs": []
    },
    {
      "cell_type": "markdown",
      "metadata": {
        "id": "JInuBOJSECPt"
      },
      "source": [
        "## Importing data ##"
      ]
    },
    {
      "cell_type": "code",
      "metadata": {
        "id": "7TyI8L1dAJyT",
        "colab": {
          "base_uri": "https://localhost:8080/",
          "height": 170
        },
        "outputId": "257bae38-c4e1-4df8-f3d8-d16172acad1d"
      },
      "source": [
        "records = sc.textFile('video-years.csv')\n",
        "records.collect() # See what got imported into this RDD"
      ],
      "execution_count": null,
      "outputs": [
        {
          "output_type": "execute_result",
          "data": {
            "text/plain": [
              "['b6ea95c5-9aea-11e5-a6ca-8b496c707234,\"Monsters Inc.\",2001',\n",
              " 'b6d734d1-9aea-11e5-a6ca-8b496c707234,\"Stuart Little 2\",2002',\n",
              " 'b6c5cfb5-9aea-11e5-a6ca-8b496c707234,\"Piglet\\'s Big Movie\",2003',\n",
              " 'b6d22bc1-9aea-11e5-a6ca-8b496c707234,\"Jimmy Neutron: Boy Genius\",2001',\n",
              " 'b6c31093-9aea-11e5-a6ca-8b496c707234,\"The Country Bears\",2002',\n",
              " 'b6d89469-9aea-11e5-a6ca-8b496c707234,\"The Jungle Book 2\",2003',\n",
              " 'b6cd70d5-9aea-11e5-a6ca-8b496c707234,\"The Tigger Movie\",2000',\n",
              " 'b6c31095-9aea-11e5-a6ca-8b496c707234,\"Tarzan & Jane\",2002',\n",
              " 'b6d9cce1-9aea-11e5-a6ca-8b496c707234,\"Finding Nemo\",2003']"
            ]
          },
          "metadata": {
            "tags": []
          },
          "execution_count": 9
        }
      ]
    },
    {
      "cell_type": "code",
      "metadata": {
        "id": "Eh7TW5MAKDk7",
        "colab": {
          "base_uri": "https://localhost:8080/",
          "height": 34
        },
        "outputId": "35444dde-0833-4e7b-9144-e87bca64283d"
      },
      "source": [
        "records.count()"
      ],
      "execution_count": null,
      "outputs": [
        {
          "output_type": "execute_result",
          "data": {
            "text/plain": [
              "9"
            ]
          },
          "metadata": {
            "tags": []
          },
          "execution_count": 6
        }
      ]
    },
    {
      "cell_type": "markdown",
      "metadata": {
        "id": "-PKoo_RTCmiZ"
      },
      "source": [
        "### Create key-value RDD pairs.###"
      ]
    },
    {
      "cell_type": "code",
      "metadata": {
        "id": "d2V9TyWP_Lqk",
        "colab": {
          "base_uri": "https://localhost:8080/",
          "height": 170
        },
        "outputId": "092c2f1c-96f3-4977-8d08-24ba6fbce9f4"
      },
      "source": [
        "pair = records.map(lambda x: (x.split(\",\")[1].replace(\"\\\"\",\"\"),x.split(\",\")[2]))\n",
        "pair.take(9)"
      ],
      "execution_count": null,
      "outputs": [
        {
          "output_type": "execute_result",
          "data": {
            "text/plain": [
              "[('Monsters Inc.', '2001'),\n",
              " ('Stuart Little 2', '2002'),\n",
              " (\"Piglet's Big Movie\", '2003'),\n",
              " ('Jimmy Neutron: Boy Genius', '2001'),\n",
              " ('The Country Bears', '2002'),\n",
              " ('The Jungle Book 2', '2003'),\n",
              " ('The Tigger Movie', '2000'),\n",
              " ('Tarzan & Jane', '2002'),\n",
              " ('Finding Nemo', '2003')]"
            ]
          },
          "metadata": {
            "tags": []
          },
          "execution_count": 7
        }
      ]
    },
    {
      "cell_type": "code",
      "metadata": {
        "id": "3prSewuQ9yMG",
        "colab": {
          "base_uri": "https://localhost:8080/",
          "height": 34
        },
        "outputId": "f94475e1-72eb-4212-c42c-95e68974c11d"
      },
      "source": [
        "type(pair) #IT'S AN RDD\n"
      ],
      "execution_count": null,
      "outputs": [
        {
          "output_type": "execute_result",
          "data": {
            "text/plain": [
              "pyspark.rdd.PipelinedRDD"
            ]
          },
          "metadata": {
            "tags": []
          },
          "execution_count": 8
        }
      ]
    },
    {
      "cell_type": "code",
      "metadata": {
        "id": "H2VZSKe492Qf",
        "colab": {
          "base_uri": "https://localhost:8080/",
          "height": 34
        },
        "outputId": "ccc6180a-4394-4e2d-993f-cacdcd083850"
      },
      "source": [
        "pair.take(1) #the output of take gives the list\n",
        "type(pair.take(2))"
      ],
      "execution_count": null,
      "outputs": [
        {
          "output_type": "execute_result",
          "data": {
            "text/plain": [
              "list"
            ]
          },
          "metadata": {
            "tags": []
          },
          "execution_count": 9
        }
      ]
    },
    {
      "cell_type": "markdown",
      "metadata": {
        "id": "X4MC9bUVDjgV"
      },
      "source": [
        "#### Filtering on the second element, i.e., value, and only keep those movies that are released after year 2002 (20%) ####"
      ]
    },
    {
      "cell_type": "code",
      "metadata": {
        "id": "WGfXOlJ9BR_R",
        "colab": {
          "base_uri": "https://localhost:8080/",
          "height": 34
        },
        "outputId": "678f6290-c4c4-449e-9190-e485be15ee8b"
      },
      "source": [
        "rdd=pair.filter(lambda x: x[1]>'2002')\n",
        "print(\"The movies that are released after 2002 : %s\" %rdd.collect())"
      ],
      "execution_count": null,
      "outputs": [
        {
          "output_type": "stream",
          "text": [
            "The movies that are released after 2002 : [(\"Piglet's Big Movie\", '2003'), ('The Jungle Book 2', '2003'), ('Finding Nemo', '2003')]\n"
          ],
          "name": "stdout"
        }
      ]
    },
    {
      "cell_type": "markdown",
      "metadata": {
        "id": "OAugh8p0DrgA"
      },
      "source": [
        "#### Use ReduceByKey and mapValues to compute the average value for each key in the RDD pairs (30%)####"
      ]
    },
    {
      "cell_type": "code",
      "metadata": {
        "id": "xiF1Q2_6CH6D",
        "colab": {
          "base_uri": "https://localhost:8080/",
          "height": 34
        },
        "outputId": "1804e80b-c691-4f27-8ad5-6d661f9c8f07"
      },
      "source": [
        "rdd = sc.parallelize([(\"panda\", 0), (\"pink\" , 3), (\"pirate\", 3), (\"panda\", 1), (\"pink\", 4)])\n",
        "rdd.collect()"
      ],
      "execution_count": null,
      "outputs": [
        {
          "output_type": "execute_result",
          "data": {
            "text/plain": [
              "[('panda', 0), ('pink', 3), ('pirate', 3), ('panda', 1), ('pink', 4)]"
            ]
          },
          "metadata": {
            "tags": []
          },
          "execution_count": 11
        }
      ]
    },
    {
      "cell_type": "code",
      "metadata": {
        "id": "Riuw7C5k_arj",
        "colab": {
          "base_uri": "https://localhost:8080/",
          "height": 68
        },
        "outputId": "14391f7f-9b09-4412-8408-02e0320baf82"
      },
      "source": [
        "rdd_key_count=rdd.mapValues(lambda x:(x,1)) # for rdd pair just normal map works differently.\n",
        "print(rdd_key_count.collect())\n",
        "rdd_key_sum=rdd_key_count.reduceByKey(lambda x,y:(x[0]+y[0],x[1]+y[1]))\n",
        "print(rdd_key_sum.collect())\n",
        "rdd_key_count=rdd_key_sum.mapValues(lambda x:x[0]/x[1] )\n",
        "print(rdd_key_count.collect())\n"
      ],
      "execution_count": null,
      "outputs": [
        {
          "output_type": "stream",
          "text": [
            "[('panda', (0, 1)), ('pink', (3, 1)), ('pirate', (3, 1)), ('panda', (1, 1)), ('pink', (4, 1))]\n",
            "[('panda', (1, 2)), ('pink', (7, 2)), ('pirate', (3, 1))]\n",
            "[('panda', 0.5), ('pink', 3.5), ('pirate', 3.0)]\n"
          ],
          "name": "stdout"
        }
      ]
    },
    {
      "cell_type": "code",
      "metadata": {
        "id": "mZueigNuGnOr",
        "colab": {
          "base_uri": "https://localhost:8080/",
          "height": 34
        },
        "outputId": "379b63f6-2ab6-4f30-ec4d-0cd872457bb9"
      },
      "source": [
        "rdd_average=rdd.mapValues(lambda x:(x,1)).reduceByKey(lambda x,y:(x[0]+y[0],x[1]+y[1])).mapValues(lambda x: x[0]/x[1])\n",
        "print(\"The average value of each key in the rdd pairs is :%s\" %rdd_average.collect())"
      ],
      "execution_count": null,
      "outputs": [
        {
          "output_type": "stream",
          "text": [
            "The average value of each key in the rdd pairs is :[('panda', 0.5), ('pink', 3.5), ('pirate', 3.0)]\n"
          ],
          "name": "stdout"
        }
      ]
    },
    {
      "cell_type": "markdown",
      "metadata": {
        "id": "RuL8AFdPHB6B"
      },
      "source": [
        "##Word count problem ##"
      ]
    },
    {
      "cell_type": "markdown",
      "metadata": {
        "id": "SKEst88sHLWA"
      },
      "source": [
        "####Consider the movie title, duration, rating info below. ####\n",
        "\n",
        "|Title                    |Duration (mins)|  User Rating|\n",
        "|----------------         |-----      |-----|\n",
        "|The Martian              |141            |7.6|\n",
        "|Bridge of Spies          |141           |8.0 |\n",
        "|The Imitation Game      |\t113          |\t8.0|          \n",
        "|The Wolf of Wall Street  | 180         |\t7.9|\n",
        "|Creed  |132             |8.6|\n",
        "|John Wick           |101     |7.2|\n",
        "|The Hundred-Foot Journey| 122 |\t7.3|\n"
      ]
    },
    {
      "cell_type": "markdown",
      "metadata": {
        "id": "D0Yov_meIl9i"
      },
      "source": [
        "####Create an RDD out of this table####"
      ]
    },
    {
      "cell_type": "code",
      "metadata": {
        "id": "96SIkmr7GtLf",
        "colab": {
          "base_uri": "https://localhost:8080/",
          "height": 136
        },
        "outputId": "a816067a-570e-43c5-b79a-7827a23a2803"
      },
      "source": [
        "movies = sc.parallelize(['\"The Martian\", 141, 7.6',\n",
        "                    '\"Bridge of Spies\", 141, 8.0',\n",
        "                    '\"The Imitation Game\", 113, 8.0',\n",
        "                    '\"The Wolf of Wall Street\", 180, 7.9',\n",
        "                    '\"Creed\", 132, 8.6',\n",
        "                    '\"John Wick\", 101, 7.2',\n",
        "                    '\"The Hundred-Foot Journey\", 122, 7.3'])\n",
        "movies.collect()"
      ],
      "execution_count": null,
      "outputs": [
        {
          "output_type": "execute_result",
          "data": {
            "text/plain": [
              "['\"The Martian\", 141, 7.6',\n",
              " '\"Bridge of Spies\", 141, 8.0',\n",
              " '\"The Imitation Game\", 113, 8.0',\n",
              " '\"The Wolf of Wall Street\", 180, 7.9',\n",
              " '\"Creed\", 132, 8.6',\n",
              " '\"John Wick\", 101, 7.2',\n",
              " '\"The Hundred-Foot Journey\", 122, 7.3']"
            ]
          },
          "metadata": {
            "tags": []
          },
          "execution_count": 14
        }
      ]
    },
    {
      "cell_type": "markdown",
      "metadata": {
        "id": "58_2lnDHIsdw"
      },
      "source": [
        "####How many movies are in this list? ####"
      ]
    },
    {
      "cell_type": "code",
      "metadata": {
        "id": "262X1SPiI10p",
        "colab": {
          "base_uri": "https://localhost:8080/",
          "height": 34
        },
        "outputId": "e910b8ca-ec15-4c5a-e2c1-9fa2be1942db"
      },
      "source": [
        "movies.count()\n",
        "# len(movies.collect())"
      ],
      "execution_count": null,
      "outputs": [
        {
          "output_type": "execute_result",
          "data": {
            "text/plain": [
              "7"
            ]
          },
          "metadata": {
            "tags": []
          },
          "execution_count": 15
        }
      ]
    },
    {
      "cell_type": "markdown",
      "metadata": {
        "id": "Zu4Kz0XII2Wm"
      },
      "source": [
        "####what is the word count of all the movie titles? Use reduceByKey for this part (30%)  #### \n",
        "#####Print them out by 'word : total occurence of this word' line by line (all \"s need to be removed in each word)#####"
      ]
    },
    {
      "cell_type": "code",
      "metadata": {
        "id": "f24-Rg4fhska",
        "colab": {
          "base_uri": "https://localhost:8080/",
          "height": 272
        },
        "outputId": "70edb979-a8b6-49a9-f982-e172c791489a"
      },
      "source": [
        "rdd_movies=movies.map(lambda x: x.split(\",\")[0].replace(\"\\\"\",\"\"))\n",
        "rdd_words=rdd_movies.flatMap(lambda x : x.split(\" \")).map(lambda x : (x,1)).reduceByKey(lambda x, y : x+y)\n",
        "#rdd_words.collect()\n",
        "for i in range (0, rdd_words.count()):\n",
        "  print (\"%s : %d\" % (rdd_words.collect()[i][0],rdd_words.collect()[i][1]))"
      ],
      "execution_count": null,
      "outputs": [
        {
          "output_type": "stream",
          "text": [
            "The : 4\n",
            "Bridge : 1\n",
            "of : 2\n",
            "Spies : 1\n",
            "Journey : 1\n",
            "Martian : 1\n",
            "Imitation : 1\n",
            "Game : 1\n",
            "Wolf : 1\n",
            "Wall : 1\n",
            "Street : 1\n",
            "Creed : 1\n",
            "John : 1\n",
            "Wick : 1\n",
            "Hundred-Foot : 1\n"
          ],
          "name": "stdout"
        }
      ]
    },
    {
      "cell_type": "code",
      "metadata": {
        "id": "4WdL0Djif9zv"
      },
      "source": [
        ""
      ],
      "execution_count": null,
      "outputs": []
    },
    {
      "cell_type": "markdown",
      "metadata": {
        "id": "DJ-cEPqsGdgS"
      },
      "source": [
        "### word count: use combineByKey only for this part(20%) ####"
      ]
    },
    {
      "cell_type": "code",
      "metadata": {
        "id": "D795l2PaZbjZ",
        "colab": {
          "base_uri": "https://localhost:8080/",
          "height": 272
        },
        "outputId": "7f2d2684-1e3c-444a-8ac0-fc78a5ae9f67"
      },
      "source": [
        "rdd_movies1=movies.map(lambda x: x.split(\",\")[0].replace(\"\\\"\",\"\")).flatMap(lambda x:x.split(\" \")).map(lambda x:(x,1))\n",
        "rdd_words1=rdd_movies1.combineByKey((lambda x: (x,1)),(lambda x, y: (x[0] + y, x[1] + 1)),(lambda x, y: (x[0] + y[0], x[1] + y[1])))\n",
        "for i in range (0, rdd_words1.count()):\n",
        "   print (\"%s : %d\" % (rdd_words1.collect()[i][0],rdd_words1.collect()[i][1][0]))"
      ],
      "execution_count": null,
      "outputs": [
        {
          "output_type": "stream",
          "text": [
            "The : 4\n",
            "Bridge : 1\n",
            "of : 2\n",
            "Spies : 1\n",
            "Journey : 1\n",
            "Martian : 1\n",
            "Imitation : 1\n",
            "Game : 1\n",
            "Wolf : 1\n",
            "Wall : 1\n",
            "Street : 1\n",
            "Creed : 1\n",
            "John : 1\n",
            "Wick : 1\n",
            "Hundred-Foot : 1\n"
          ],
          "name": "stdout"
        }
      ]
    },
    {
      "cell_type": "code",
      "metadata": {
        "id": "SO8yv0RNJdR_"
      },
      "source": [
        ""
      ],
      "execution_count": null,
      "outputs": []
    }
  ]
}