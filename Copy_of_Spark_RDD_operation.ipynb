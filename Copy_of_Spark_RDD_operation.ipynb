{
  "nbformat": 4,
  "nbformat_minor": 0,
  "metadata": {
    "colab": {
      "name": "Copy of Spark RDD operation",
      "provenance": [],
      "collapsed_sections": [],
      "include_colab_link": true
    },
    "kernelspec": {
      "name": "python3",
      "display_name": "Python 3"
    }
  },
  "cells": [
    {
      "cell_type": "markdown",
      "metadata": {
        "id": "view-in-github",
        "colab_type": "text"
      },
      "source": [
        "<a href=\"https://colab.research.google.com/github/sindhu819/Spark-2020/blob/main/Copy_of_Spark_RDD_operation.ipynb\" target=\"_parent\"><img src=\"https://colab.research.google.com/assets/colab-badge.svg\" alt=\"Open In Colab\"/></a>"
      ]
    },
    {
      "cell_type": "markdown",
      "metadata": {
        "id": "sq8U3BtmhtRx"
      },
      "source": [
        "\n",
        "# **RDD Operation**\n",
        "\n",
        "To run spark in Colab, we need to first install pyspark\n"
      ]
    },
    {
      "cell_type": "code",
      "metadata": {
        "id": "hofqR6k12zss",
        "colab": {
          "base_uri": "https://localhost:8080/",
          "height": 408
        },
        "outputId": "45815d5a-5060-46b0-a6ad-f03449c74ecb"
      },
      "source": [
        "!apt-get update\n",
        "!apt-get install openjdk-8-jdk-headless -qq > /dev/null\n",
        "!wget -q http://apache.osuosl.org/spark/spark-2.4.4/spark-2.4.4-bin-hadoop2.7.tgz\n",
        "!tar xf spark-2.4.4-bin-hadoop2.7.tgz\n",
        "!pip install -q findspark\n",
        "\n",
        "import os\n",
        "os.environ[\"JAVA_HOME\"] = \"/usr/lib/jvm/java-8-openjdk-amd64\"\n",
        "os.environ[\"SPARK_HOME\"] = \"/content/spark-2.4.4-bin-hadoop2.7\"\n",
        "\n",
        "import findspark\n",
        "findspark.init()\n",
        "from pyspark.sql import SparkSession\n",
        "spark = SparkSession.builder.master(\"local[*]\").getOrCreate()"
      ],
      "execution_count": null,
      "outputs": [
        {
          "output_type": "stream",
          "text": [
            "\r0% [Working]\r            \rIgn:1 https://developer.download.nvidia.com/compute/cuda/repos/ubuntu1804/x86_64  InRelease\n",
            "Ign:2 https://developer.download.nvidia.com/compute/machine-learning/repos/ubuntu1804/x86_64  InRelease\n",
            "Hit:3 http://ppa.launchpad.net/graphics-drivers/ppa/ubuntu bionic InRelease\n",
            "Get:4 http://security.ubuntu.com/ubuntu bionic-security InRelease [88.7 kB]\n",
            "Hit:5 https://developer.download.nvidia.com/compute/cuda/repos/ubuntu1804/x86_64  Release\n",
            "Hit:6 http://archive.ubuntu.com/ubuntu bionic InRelease\n",
            "Hit:7 https://developer.download.nvidia.com/compute/machine-learning/repos/ubuntu1804/x86_64  Release\n",
            "Get:8 http://archive.ubuntu.com/ubuntu bionic-updates InRelease [88.7 kB]\n",
            "Get:9 http://ppa.launchpad.net/marutter/c2d4u3.5/ubuntu bionic InRelease [15.4 kB]\n",
            "Get:10 https://cloud.r-project.org/bin/linux/ubuntu bionic-cran35/ InRelease [3,626 B]\n",
            "Get:12 http://archive.ubuntu.com/ubuntu bionic-backports InRelease [74.6 kB]\n",
            "Get:14 http://ppa.launchpad.net/marutter/c2d4u3.5/ubuntu bionic/main Sources [1,742 kB]\n",
            "Get:15 http://security.ubuntu.com/ubuntu bionic-security/universe amd64 Packages [794 kB]\n",
            "Get:16 https://cloud.r-project.org/bin/linux/ubuntu bionic-cran35/ Packages [75.1 kB]\n",
            "Get:17 http://archive.ubuntu.com/ubuntu bionic-updates/main amd64 Packages [1,057 kB]\n",
            "Get:18 http://security.ubuntu.com/ubuntu bionic-security/main amd64 Packages [761 kB]\n",
            "Get:19 http://security.ubuntu.com/ubuntu bionic-security/multiverse amd64 Packages [6,781 B]\n",
            "Get:20 http://archive.ubuntu.com/ubuntu bionic-updates/universe amd64 Packages [1,322 kB]\n",
            "Get:21 http://ppa.launchpad.net/marutter/c2d4u3.5/ubuntu bionic/main amd64 Packages [840 kB]\n",
            "Get:22 http://archive.ubuntu.com/ubuntu bionic-updates/multiverse amd64 Packages [10.5 kB]\n",
            "Get:23 http://archive.ubuntu.com/ubuntu bionic-updates/restricted amd64 Packages [32.7 kB]\n",
            "Fetched 6,913 kB in 3s (2,360 kB/s)\n",
            "Reading package lists... Done\n"
          ],
          "name": "stdout"
        }
      ]
    },
    {
      "cell_type": "code",
      "metadata": {
        "id": "fxPoVgDE7nbz"
      },
      "source": [
        "from pyspark import SparkContext\n",
        "sc = spark.sparkContext"
      ],
      "execution_count": null,
      "outputs": []
    },
    {
      "cell_type": "markdown",
      "metadata": {
        "id": "JEb4HTRwiaJx"
      },
      "source": [
        "# Basic RDD operations\n",
        "\n",
        "The goal of this exercise to explore basic RDD operations."
      ]
    },
    {
      "cell_type": "markdown",
      "metadata": {
        "id": "uk6wGDEhCGEu"
      },
      "source": [
        "### Creating an RDD from an array###\n",
        "\n"
      ]
    },
    {
      "cell_type": "code",
      "metadata": {
        "id": "U30XTus5-Vci"
      },
      "source": [
        "words = sc.parallelize (\n",
        "   [\"scala\", \n",
        "   \"java\", \n",
        "   \"hadoop\", \n",
        "   \"spark\", \n",
        "   \"akka\",\n",
        "   \"spark vs hadoop\", \n",
        "   \"pyspark\",\n",
        "   \"pyspark and spark\"]\n",
        ")"
      ],
      "execution_count": null,
      "outputs": []
    },
    {
      "cell_type": "markdown",
      "metadata": {
        "id": "3FF6DBFkSBUe"
      },
      "source": [
        "####How to see RDD's content"
      ]
    },
    {
      "cell_type": "code",
      "metadata": {
        "id": "gD1UaksTSGlF",
        "colab": {
          "base_uri": "https://localhost:8080/",
          "height": 51
        },
        "outputId": "e99303e3-6117-46cd-f106-d23bfe9f7058"
      },
      "source": [
        "coll = words.collect()# show all its content\n",
        "print (\"Elements in RDD: %s\" % (coll))\n",
        "print(\"The first 2 elements in RDD: %s\" % (words.take(2)))#show jsut the first 2 elements"
      ],
      "execution_count": null,
      "outputs": [
        {
          "output_type": "stream",
          "text": [
            "Elements in RDD: ['scala', 'java', 'hadoop', 'spark', 'akka', 'spark vs hadoop', 'pyspark', 'pyspark and spark']\n",
            "The first 2 elements in RDD: ['scala', 'java']\n"
          ],
          "name": "stdout"
        }
      ]
    },
    {
      "cell_type": "code",
      "metadata": {
        "id": "glVCxqE2sr7l",
        "colab": {
          "base_uri": "https://localhost:8080/",
          "height": 51
        },
        "outputId": "3031fc0f-1a2e-4323-8128-2d85e8d7e25c"
      },
      "source": [
        "print(words.first()) # first is string\n",
        "print(words.take(1)) # take is list"
      ],
      "execution_count": null,
      "outputs": [
        {
          "output_type": "stream",
          "text": [
            "scala\n",
            "['scala']\n"
          ],
          "name": "stdout"
        }
      ]
    },
    {
      "cell_type": "code",
      "metadata": {
        "id": "0mjS0y8RPJ5z",
        "colab": {
          "base_uri": "https://localhost:8080/",
          "height": 34
        },
        "outputId": "328bc833-c06a-4224-a162-968ab765447d"
      },
      "source": [
        "type(words.take(1))"
      ],
      "execution_count": null,
      "outputs": [
        {
          "output_type": "execute_result",
          "data": {
            "text/plain": [
              "list"
            ]
          },
          "metadata": {
            "tags": []
          },
          "execution_count": 8
        }
      ]
    },
    {
      "cell_type": "markdown",
      "metadata": {
        "id": "lD3vjxR1RnnU"
      },
      "source": [
        "####How to get the size of an RDD"
      ]
    },
    {
      "cell_type": "code",
      "metadata": {
        "id": "rNT-Ie9zOGnU",
        "colab": {
          "base_uri": "https://localhost:8080/",
          "height": 34
        },
        "outputId": "56519332-a06d-464a-f57b-1394bbdca015"
      },
      "source": [
        "words.count()\n",
        "# len(words.collect()) # this works too"
      ],
      "execution_count": null,
      "outputs": [
        {
          "output_type": "execute_result",
          "data": {
            "text/plain": [
              "8"
            ]
          },
          "metadata": {
            "tags": []
          },
          "execution_count": 9
        }
      ]
    },
    {
      "cell_type": "code",
      "metadata": {
        "id": "WZZqOejuPkZL",
        "colab": {
          "base_uri": "https://localhost:8080/",
          "height": 34
        },
        "outputId": "d9daae88-3b04-4f11-d6d7-5632a9106e65"
      },
      "source": [
        "len(words.collect())"
      ],
      "execution_count": null,
      "outputs": [
        {
          "output_type": "execute_result",
          "data": {
            "text/plain": [
              "8"
            ]
          },
          "metadata": {
            "tags": []
          },
          "execution_count": 10
        }
      ]
    },
    {
      "cell_type": "markdown",
      "metadata": {
        "id": "IoLCVRa3RgVl"
      },
      "source": [
        "#### How to get the first element of an RDD ####\n"
      ]
    },
    {
      "cell_type": "code",
      "metadata": {
        "id": "E5QjDNjbPJB5",
        "colab": {
          "base_uri": "https://localhost:8080/",
          "height": 34
        },
        "outputId": "aabc6aa6-1193-43eb-8f7e-31b3931782e5"
      },
      "source": [
        "words.first() #string"
      ],
      "execution_count": null,
      "outputs": [
        {
          "output_type": "execute_result",
          "data": {
            "text/plain": [
              "'scala'"
            ]
          },
          "metadata": {
            "tags": []
          },
          "execution_count": 11
        }
      ]
    },
    {
      "cell_type": "code",
      "metadata": {
        "id": "fV4a-NMLPp0M",
        "colab": {
          "base_uri": "https://localhost:8080/",
          "height": 34
        },
        "outputId": "42902136-fd74-4684-d966-54fab4fd70be"
      },
      "source": [
        "words.take(1) # it's a list "
      ],
      "execution_count": null,
      "outputs": [
        {
          "output_type": "execute_result",
          "data": {
            "text/plain": [
              "['scala']"
            ]
          },
          "metadata": {
            "tags": []
          },
          "execution_count": 12
        }
      ]
    },
    {
      "cell_type": "markdown",
      "metadata": {
        "id": "AjU0K852ShnX"
      },
      "source": [
        "####Show the first few ramdon elements of an RDD"
      ]
    },
    {
      "cell_type": "code",
      "metadata": {
        "id": "h5c5MTLJQJFb",
        "colab": {
          "base_uri": "https://localhost:8080/",
          "height": 34
        },
        "outputId": "a34863f1-7e03-47b9-f5dd-083fe266239a"
      },
      "source": [
        "words.takeSample(False, 4)# run a couple of times to see if you get the same result, why? \n",
        "#True is repeating and False is not repeating \n",
        "#change True to False and run again. What different do you see?  # "
      ],
      "execution_count": null,
      "outputs": [
        {
          "output_type": "execute_result",
          "data": {
            "text/plain": [
              "['spark', 'scala', 'pyspark and spark', 'java']"
            ]
          },
          "metadata": {
            "tags": []
          },
          "execution_count": 20
        }
      ]
    },
    {
      "cell_type": "code",
      "metadata": {
        "id": "IZSp6bMhRgEg",
        "colab": {
          "base_uri": "https://localhost:8080/",
          "height": 34
        },
        "outputId": "c3369b22-5e3f-46fd-cd64-6749bb338d82"
      },
      "source": [
        "words.takeSample(True,4)"
      ],
      "execution_count": null,
      "outputs": [
        {
          "output_type": "execute_result",
          "data": {
            "text/plain": [
              "['spark vs hadoop', 'pyspark', 'spark vs hadoop', 'spark vs hadoop']"
            ]
          },
          "metadata": {
            "tags": []
          },
          "execution_count": 23
        }
      ]
    },
    {
      "cell_type": "markdown",
      "metadata": {
        "id": "mWaf2FNZCwGE"
      },
      "source": [
        "###RDD Filtering###"
      ]
    },
    {
      "cell_type": "code",
      "metadata": {
        "id": "RyRMUaucC0Hz",
        "colab": {
          "base_uri": "https://localhost:8080/",
          "height": 34
        },
        "outputId": "7f6fcb22-d5e5-4bf0-eea8-f69be520a984"
      },
      "source": [
        "nums = sc.parallelize([1,2,3,4,5,6,7,8,9,10])\n",
        "\n",
        "# filter operation \n",
        "y = nums.filter(lambda x: x % 2 == 0)\n",
        "y.collect()\n",
        "# [2, 4, 6, 8, 10]"
      ],
      "execution_count": null,
      "outputs": [
        {
          "output_type": "execute_result",
          "data": {
            "text/plain": [
              "[2, 4, 6, 8, 10]"
            ]
          },
          "metadata": {
            "tags": []
          },
          "execution_count": 25
        }
      ]
    },
    {
      "cell_type": "code",
      "metadata": {
        "id": "oBUG15rJR8MG",
        "colab": {
          "base_uri": "https://localhost:8080/",
          "height": 34
        },
        "outputId": "88e4be91-cb32-4a22-d75a-59227c6a5e03"
      },
      "source": [
        "x=nums.filter(lambda x : x%2!=0)\n",
        "x.collect()"
      ],
      "execution_count": null,
      "outputs": [
        {
          "output_type": "execute_result",
          "data": {
            "text/plain": [
              "[1, 3, 5, 7, 9]"
            ]
          },
          "metadata": {
            "tags": []
          },
          "execution_count": 26
        }
      ]
    },
    {
      "cell_type": "code",
      "metadata": {
        "id": "vcIczt86us1w",
        "colab": {
          "base_uri": "https://localhost:8080/",
          "height": 34
        },
        "outputId": "1efd9b1a-6822-482f-e2de-e57526c84428"
      },
      "source": [
        "z=nums.filter(lambda x: x % 5 == 0)\n",
        "z.collect()"
      ],
      "execution_count": null,
      "outputs": [
        {
          "output_type": "execute_result",
          "data": {
            "text/plain": [
              "[5, 10]"
            ]
          },
          "metadata": {
            "tags": []
          },
          "execution_count": 27
        }
      ]
    },
    {
      "cell_type": "markdown",
      "metadata": {
        "id": "uC1aX-bSEA0y"
      },
      "source": [
        "###RDD map###"
      ]
    },
    {
      "cell_type": "code",
      "metadata": {
        "id": "fWgJDm2tD_ub",
        "colab": {
          "base_uri": "https://localhost:8080/",
          "height": 51
        },
        "outputId": "7f50aa29-6afa-40de-d5ad-401705f0001f"
      },
      "source": [
        "# Basic map example in python\n",
        "array = sc.parallelize([\"spark\", \"rdd\", \"example\",  \"sample\", \"example\"])\n",
        "array_with_1 = array.map(lambda x: (x,1))\n",
        "print(array_with_1.collect())\n",
        "# [('spark', 1), ('rdd', 1), ('example', 1), ('sample', 1), ('example', 1)]\n",
        "\n",
        "# Another example of making tuple with string and it's length\n",
        "array_with_length = array.map(lambda x: (x,len(x)))\n",
        "print(array_with_length.collect())\n",
        "# [('spark', 5), ('rdd', 3), ('example', 7), ('sample', 6), ('example', 7)]"
      ],
      "execution_count": null,
      "outputs": [
        {
          "output_type": "stream",
          "text": [
            "[('spark', 1), ('rdd', 1), ('example', 1), ('sample', 1), ('example', 1)]\n",
            "[('spark', 5), ('rdd', 3), ('example', 7), ('sample', 6), ('example', 7)]\n"
          ],
          "name": "stdout"
        }
      ]
    },
    {
      "cell_type": "code",
      "metadata": {
        "id": "HSzasxg1SRgM",
        "colab": {
          "base_uri": "https://localhost:8080/",
          "height": 34
        },
        "outputId": "53c57f84-8b5e-41d7-8a8b-da8c18168da5"
      },
      "source": [
        "a=array.map(lambda x: (x,2))\n",
        "a.collect()"
      ],
      "execution_count": null,
      "outputs": [
        {
          "output_type": "execute_result",
          "data": {
            "text/plain": [
              "[('spark', 2), ('rdd', 2), ('example', 2), ('sample', 2), ('example', 2)]"
            ]
          },
          "metadata": {
            "tags": []
          },
          "execution_count": 29
        }
      ]
    },
    {
      "cell_type": "markdown",
      "metadata": {
        "id": "xBYRr7uvFRpD"
      },
      "source": [
        "###RDD flatMap###"
      ]
    },
    {
      "cell_type": "code",
      "metadata": {
        "id": "u0f6zjpELSIh",
        "colab": {
          "base_uri": "https://localhost:8080/",
          "height": 51
        },
        "outputId": "96fd96bc-2192-49b6-87c1-470875ad1b57"
      },
      "source": [
        "# Basic map example in python\n",
        "arrayfm = sc.parallelize([\"spark rdd example\", \"sample example\"])\n",
        " \n",
        "# map operation will return Array of Arrays in following case (check the result)\n",
        "arrayfm_expanded = arrayfm.map(lambda x: x.split(' '))\n",
        "print(arrayfm_expanded.collect())\n",
        "# [['spark', 'rdd', 'example'], ['sample', 'example']]\n",
        " \n",
        "# flatMap operation will return an array of words in following case (check the result)\n",
        "arrayfm_expanded_flat = arrayfm.flatMap(lambda x: x.split(' '))\n",
        "print(arrayfm_expanded_flat.collect())\n",
        "# ['spark', 'rdd', 'example', 'sample', 'example']"
      ],
      "execution_count": null,
      "outputs": [
        {
          "output_type": "stream",
          "text": [
            "[['spark', 'rdd', 'example'], ['sample', 'example']]\n",
            "['spark', 'rdd', 'example', 'sample', 'example']\n"
          ],
          "name": "stdout"
        }
      ]
    },
    {
      "cell_type": "code",
      "metadata": {
        "id": "xdxeoGWfwnXJ",
        "colab": {
          "base_uri": "https://localhost:8080/",
          "height": 34
        },
        "outputId": "1fe5f04c-5708-4287-8946-10714159977f"
      },
      "source": [
        "arrayfm_expanded_flat.distinct().collect()"
      ],
      "execution_count": null,
      "outputs": [
        {
          "output_type": "execute_result",
          "data": {
            "text/plain": [
              "['spark', 'rdd', 'example', 'sample']"
            ]
          },
          "metadata": {
            "tags": []
          },
          "execution_count": 31
        }
      ]
    },
    {
      "cell_type": "code",
      "metadata": {
        "id": "bnecZbv4FVxs",
        "colab": {
          "base_uri": "https://localhost:8080/",
          "height": 51
        },
        "outputId": "841ab3df-de08-4503-dfd8-40cd0c56fae8"
      },
      "source": [
        "# another map example in python\n",
        "num = sc.parallelize([[1,2, 3], [4, 5, 6]])\n",
        "# map operation will return Array of Arrays in following case (check the result)\n",
        "y = num.map(lambda x: x)\n",
        "print(y.collect())\n",
        " \n",
        "# flatMap operation will return an array of digits in following case (check the result)\n",
        "z = num.flatMap(lambda x: x)\n",
        "print(z.collect())"
      ],
      "execution_count": null,
      "outputs": [
        {
          "output_type": "stream",
          "text": [
            "[[1, 2, 3], [4, 5, 6]]\n",
            "[1, 2, 3, 4, 5, 6]\n"
          ],
          "name": "stdout"
        }
      ]
    },
    {
      "cell_type": "markdown",
      "metadata": {
        "id": "Y32WUSy_RyV-"
      },
      "source": [
        "### RDD reduce ###"
      ]
    },
    {
      "cell_type": "code",
      "metadata": {
        "id": "ygOPNGceRv-o",
        "colab": {
          "base_uri": "https://localhost:8080/",
          "height": 68
        },
        "outputId": "758bb943-1f8c-47c4-8074-30b1c34ecc94"
      },
      "source": [
        "# reduce numbers 1 to 5 by adding them up\n",
        "num5 = sc.parallelize([1,2,3,4,5])\n",
        "cSum = num5.reduce(lambda current, next: current + next)\n",
        "print(\"sum of all numbers: %d\" % cSum)\n",
        "# 15\n",
        " \n",
        "# reduce numbers 1 to 5 by multiplying them\n",
        "cMul = num5.reduce(lambda current, next: current * next)\n",
        "print(\"product of all numbers: %d\" %cMul)\n",
        "# 120\n",
        " \n",
        "# by defining a lambda reduce function \n",
        "def cumulativeSum(current, next):\n",
        "    return current + next\n",
        " \n",
        "cSum = num5.reduce(cumulativeSum)\n",
        "print(\"sum of all numbers: %d\" % cSum)\n",
        "# 15"
      ],
      "execution_count": null,
      "outputs": [
        {
          "output_type": "stream",
          "text": [
            "sum of all numbers: 15\n",
            "product of all numbers: 120\n",
            "sum of all numbers: 15\n"
          ],
          "name": "stdout"
        }
      ]
    },
    {
      "cell_type": "code",
      "metadata": {
        "id": "p0mEOqvfycta",
        "colab": {
          "base_uri": "https://localhost:8080/",
          "height": 34
        },
        "outputId": "acf56b69-6894-4f23-d2ef-06589e404829"
      },
      "source": [
        "def cumulativemul(current, next):\n",
        "    return current * next\n",
        " \n",
        "cmul = num5.reduce(cumulativemul)\n",
        "print(\"sum of all numbers: %d\" % cmul)\n",
        "# 15"
      ],
      "execution_count": null,
      "outputs": [
        {
          "output_type": "stream",
          "text": [
            "sum of all numbers: 120\n"
          ],
          "name": "stdout"
        }
      ]
    },
    {
      "cell_type": "code",
      "metadata": {
        "id": "kO2aeFBUS1G1",
        "colab": {
          "base_uri": "https://localhost:8080/",
          "height": 34
        },
        "outputId": "e14e6425-e684-43ee-9f0e-303208222c5b"
      },
      "source": [
        "#Another long way to find out how many numbers are in the RDD\n",
        "total_number = x.map(lambda x:1).reduce(lambda current, next: current + next)\n",
        "print(\"There are %d numbers\" % total_number)"
      ],
      "execution_count": null,
      "outputs": [
        {
          "output_type": "stream",
          "text": [
            "There are 5 numbers\n"
          ],
          "name": "stdout"
        }
      ]
    },
    {
      "cell_type": "markdown",
      "metadata": {
        "id": "r1hlQxTyQ3f4"
      },
      "source": [
        "###We will import an csv file to illustrate some more RDD opearations."
      ]
    },
    {
      "cell_type": "code",
      "metadata": {
        "id": "1WbzJM4cYp1I"
      },
      "source": [
        "#1 Code to read csv file into colaboratory:\n",
        "!pip install -U -q PyDrive\n",
        "from pydrive.auth import GoogleAuth\n",
        "from pydrive.drive import GoogleDrive\n",
        "from google.colab import auth\n",
        "from oauth2client.client import GoogleCredentials\n",
        "\n",
        "# 1. Authenticate and create the PyDrive client.\n",
        "auth.authenticate_user()\n",
        "gauth = GoogleAuth()\n",
        "gauth.credentials = GoogleCredentials.get_application_default()\n",
        "drive = GoogleDrive(gauth)"
      ],
      "execution_count": null,
      "outputs": []
    },
    {
      "cell_type": "code",
      "metadata": {
        "id": "ubjxW9IrYrMG"
      },
      "source": [
        "#2. Get the file\n",
        "#make sure you upload all your data files to your Google drive and change share->Advanced->change->anyone with the link can view\n",
        "downloaded = drive.CreateFile({'id':'1ilCXuYltyjv1auHn8FY_Csksep9gz03c'}) # replace the id with id of file you want to access\n",
        "downloaded.GetContentFile('video-years.csv')"
      ],
      "execution_count": null,
      "outputs": []
    },
    {
      "cell_type": "markdown",
      "metadata": {
        "id": "JInuBOJSECPt"
      },
      "source": [
        "## Example 1 ##"
      ]
    },
    {
      "cell_type": "code",
      "metadata": {
        "id": "7TyI8L1dAJyT",
        "colab": {
          "base_uri": "https://localhost:8080/",
          "height": 170
        },
        "outputId": "50e75dd5-2ad6-4089-fc12-435661bbdfa9"
      },
      "source": [
        "records = sc.textFile('video-years.csv')\n",
        "records.collect() # See what got imported into this RDD"
      ],
      "execution_count": null,
      "outputs": [
        {
          "output_type": "execute_result",
          "data": {
            "text/plain": [
              "['b6ea95c5-9aea-11e5-a6ca-8b496c707234,\"Monsters Inc.\",2001',\n",
              " 'b6d734d1-9aea-11e5-a6ca-8b496c707234,\"Stuart Little 2\",2002',\n",
              " 'b6c5cfb5-9aea-11e5-a6ca-8b496c707234,\"Piglet\\'s Big Movie\",2003',\n",
              " 'b6d22bc1-9aea-11e5-a6ca-8b496c707234,\"Jimmy Neutron: Boy Genius\",2001',\n",
              " 'b6c31093-9aea-11e5-a6ca-8b496c707234,\"The Country Bears\",2002',\n",
              " 'b6d89469-9aea-11e5-a6ca-8b496c707234,\"The Jungle Book 2\",2003',\n",
              " 'b6cd70d5-9aea-11e5-a6ca-8b496c707234,\"The Tigger Movie\",2000',\n",
              " 'b6c31095-9aea-11e5-a6ca-8b496c707234,\"Tarzan & Jane\",2002',\n",
              " 'b6d9cce1-9aea-11e5-a6ca-8b496c707234,\"Finding Nemo\",2003']"
            ]
          },
          "metadata": {
            "tags": []
          },
          "execution_count": 38
        }
      ]
    },
    {
      "cell_type": "code",
      "metadata": {
        "id": "Eh7TW5MAKDk7",
        "colab": {
          "base_uri": "https://localhost:8080/",
          "height": 34
        },
        "outputId": "0884dfc5-6aeb-4530-c411-3ba10d2b36a8"
      },
      "source": [
        "records.count()"
      ],
      "execution_count": null,
      "outputs": [
        {
          "output_type": "execute_result",
          "data": {
            "text/plain": [
              "9"
            ]
          },
          "metadata": {
            "tags": []
          },
          "execution_count": 40
        }
      ]
    },
    {
      "cell_type": "code",
      "metadata": {
        "id": "HmbOsgstTChf",
        "colab": {
          "base_uri": "https://localhost:8080/",
          "height": 34
        },
        "outputId": "6b7fe214-7311-4602-96fd-13ccfe6055be"
      },
      "source": [
        "len(records.collect())"
      ],
      "execution_count": null,
      "outputs": [
        {
          "output_type": "execute_result",
          "data": {
            "text/plain": [
              "9"
            ]
          },
          "metadata": {
            "tags": []
          },
          "execution_count": 41
        }
      ]
    },
    {
      "cell_type": "markdown",
      "metadata": {
        "id": "-PKoo_RTCmiZ"
      },
      "source": [
        "### Parse the records by using the flatMap method to create a collection of years.###"
      ]
    },
    {
      "cell_type": "code",
      "metadata": {
        "id": "d2V9TyWP_Lqk",
        "colab": {
          "base_uri": "https://localhost:8080/",
          "height": 34
        },
        "outputId": "ec3b78cf-c407-467b-d82a-f4b55c46f459"
      },
      "source": [
        "#Let's get the 3rd part of each row, i.e., the year, and put it in an RDD\n",
        "splits = records.map(lambda x: x.split(\",\")[2])\n",
        "print (splits.collect())# Do we get all the year, and only the year, in this new RDD?"
      ],
      "execution_count": null,
      "outputs": [
        {
          "output_type": "stream",
          "text": [
            "['2001', '2002', '2003', '2001', '2002', '2003', '2000', '2002', '2003']\n"
          ],
          "name": "stdout"
        }
      ]
    },
    {
      "cell_type": "code",
      "metadata": {
        "id": "9NnDYNUjTIU4",
        "colab": {
          "base_uri": "https://localhost:8080/",
          "height": 34
        },
        "outputId": "209fec71-422a-4f94-bd6a-10915fdd669e"
      },
      "source": [
        "a=records.map(lambda x : x.split(\",\")[2])\n",
        "a.collect()"
      ],
      "execution_count": null,
      "outputs": [
        {
          "output_type": "execute_result",
          "data": {
            "text/plain": [
              "['2001', '2002', '2003', '2001', '2002', '2003', '2000', '2002', '2003']"
            ]
          },
          "metadata": {
            "tags": []
          },
          "execution_count": 43
        }
      ]
    },
    {
      "cell_type": "markdown",
      "metadata": {
        "id": "X4MC9bUVDjgV"
      },
      "source": [
        "#### create another map that will hold the count for each year ####"
      ]
    },
    {
      "cell_type": "code",
      "metadata": {
        "id": "WGfXOlJ9BR_R"
      },
      "source": [
        "counts = splits.map(lambda x: (x, 1)).reduceByKey(lambda current, next: current+next)"
      ],
      "execution_count": null,
      "outputs": []
    },
    {
      "cell_type": "code",
      "metadata": {
        "id": "mK40t3-4TlLu",
        "colab": {
          "base_uri": "https://localhost:8080/",
          "height": 34
        },
        "outputId": "ab8aad87-b280-4dce-ef1f-ec28250f89fb"
      },
      "source": [
        "a.map(lambda x : (x,1)).reduceByKey(lambda x,y : x+y).collect()"
      ],
      "execution_count": null,
      "outputs": [
        {
          "output_type": "execute_result",
          "data": {
            "text/plain": [
              "[('2002', 3), ('2003', 3), ('2001', 2), ('2000', 1)]"
            ]
          },
          "metadata": {
            "tags": []
          },
          "execution_count": 44
        }
      ]
    },
    {
      "cell_type": "markdown",
      "metadata": {
        "id": "OAugh8p0DrgA"
      },
      "source": [
        "#### print the year and the number of total occurence ####"
      ]
    },
    {
      "cell_type": "code",
      "metadata": {
        "id": "xiF1Q2_6CH6D",
        "colab": {
          "base_uri": "https://localhost:8080/",
          "height": 34
        },
        "outputId": "cd7cd950-f26e-4743-b559-7dfb898f5b7d"
      },
      "source": [
        "print(counts.collect())"
      ],
      "execution_count": null,
      "outputs": [
        {
          "output_type": "stream",
          "text": [
            "[('2002', 3), ('2003', 3), ('2001', 2), ('2000', 1)]\n"
          ],
          "name": "stdout"
        }
      ]
    },
    {
      "cell_type": "markdown",
      "metadata": {
        "id": "PWw7UN-dEHX6"
      },
      "source": [
        "## Example 2 ##"
      ]
    },
    {
      "cell_type": "markdown",
      "metadata": {
        "id": "c_k0BpBTEStQ"
      },
      "source": [
        "Chris’ favorite movies\n",
        "**Fast and Furious,\n",
        "Harry Potter**    \n",
        "Jane’s favorite movie\n",
        "**Harry Potter,\n",
        "Gone with the wind**\n"
      ]
    },
    {
      "cell_type": "markdown",
      "metadata": {
        "id": "TFRNkuA5E_8t"
      },
      "source": [
        "###What are the movie(s) that both Chris and Jane like?###"
      ]
    },
    {
      "cell_type": "code",
      "metadata": {
        "id": "TNjIJXTJE7Qm",
        "colab": {
          "base_uri": "https://localhost:8080/",
          "height": 34
        },
        "outputId": "c28e9e94-3a5f-4008-a2ba-bd2e7fd66f1d"
      },
      "source": [
        "#Let's create an RDD to hold Chris' favorite movies\n",
        "rdd_chris = sc.parallelize([\"Fast and Furious\", \"Harry Potter\"])\n",
        "rdd_chris.collect()"
      ],
      "execution_count": null,
      "outputs": [
        {
          "output_type": "execute_result",
          "data": {
            "text/plain": [
              "['Fast and Furious', 'Harry Potter']"
            ]
          },
          "metadata": {
            "tags": []
          },
          "execution_count": 48
        }
      ]
    },
    {
      "cell_type": "code",
      "metadata": {
        "id": "RuPUN9lkFPOC",
        "colab": {
          "base_uri": "https://localhost:8080/",
          "height": 34
        },
        "outputId": "f0a332b8-a77d-466c-d08e-dc04c9a66000"
      },
      "source": [
        "#Let's create an RDD to hold Jane's favorite movies\n",
        "rdd_jane = sc.parallelize([\"Harry Potter\", \"Gone with the wind\"])\n",
        "rdd_jane.collect()"
      ],
      "execution_count": null,
      "outputs": [
        {
          "output_type": "execute_result",
          "data": {
            "text/plain": [
              "['Harry Potter', 'Gone with the wind']"
            ]
          },
          "metadata": {
            "tags": []
          },
          "execution_count": 50
        }
      ]
    },
    {
      "cell_type": "code",
      "metadata": {
        "id": "WP82Vo8OFg0Y",
        "colab": {
          "base_uri": "https://localhost:8080/",
          "height": 35
        },
        "outputId": "408eaddd-239e-455b-90d6-b3c703598235"
      },
      "source": [
        "rdd_chris.intersection(rdd_jane).collect()"
      ],
      "execution_count": null,
      "outputs": [
        {
          "output_type": "execute_result",
          "data": {
            "text/plain": [
              "['Harry Potter']"
            ]
          },
          "metadata": {
            "tags": []
          },
          "execution_count": 36
        }
      ]
    },
    {
      "cell_type": "markdown",
      "metadata": {
        "id": "03EjmkbAGUsk"
      },
      "source": [
        "###What are all the distinct movies that either Chris or Jane like?"
      ]
    },
    {
      "cell_type": "code",
      "metadata": {
        "id": "Gqx62e_aF4dq",
        "colab": {
          "base_uri": "https://localhost:8080/",
          "height": 35
        },
        "outputId": "43e55f0f-7618-413d-afc2-00b12a5f784f"
      },
      "source": [
        "rdd_chris.union(rdd_jane).distinct().collect()"
      ],
      "execution_count": null,
      "outputs": [
        {
          "output_type": "execute_result",
          "data": {
            "text/plain": [
              "['Harry Potter', 'Fast and Furious', 'Gone with the wind']"
            ]
          },
          "metadata": {
            "tags": []
          },
          "execution_count": 37
        }
      ]
    },
    {
      "cell_type": "markdown",
      "metadata": {
        "id": "Me1S98kPGmN-"
      },
      "source": [
        "###What movie Chris likes but is not Jane’s favorite?###"
      ]
    },
    {
      "cell_type": "code",
      "metadata": {
        "id": "At4ft35XGcnj",
        "colab": {
          "base_uri": "https://localhost:8080/",
          "height": 35
        },
        "outputId": "7147b3e4-6ce2-4dbb-b3d3-a23bef9d0f64"
      },
      "source": [
        "rdd_chris.subtract(rdd_jane).collect()"
      ],
      "execution_count": null,
      "outputs": [
        {
          "output_type": "execute_result",
          "data": {
            "text/plain": [
              "['Fast and Furious']"
            ]
          },
          "metadata": {
            "tags": []
          },
          "execution_count": 38
        }
      ]
    },
    {
      "cell_type": "markdown",
      "metadata": {
        "id": "RuL8AFdPHB6B"
      },
      "source": [
        "##Example 2##"
      ]
    },
    {
      "cell_type": "markdown",
      "metadata": {
        "id": "SKEst88sHLWA"
      },
      "source": [
        "####Consider the movie title, duration, rating info below. ####\n",
        "\n",
        "|Title                    |Duration (mins)|  User Rating|\n",
        "|----------------         |-----      |-----|\n",
        "|The Martian              |141            |7.6|\n",
        "|Bridge of Spies          |141           |8.0 |\n",
        "|The Imitation Game      |\t113          |\t8.0|          \n",
        "|The Wolf of Wall Street  | 180         |\t7.9|\n",
        "|Creed  |132             |8.6|\n",
        "|John Wick           |101     |7.2|\n",
        "|The Hundred-Foot Journey| 122 |\t7.3|\n"
      ]
    },
    {
      "cell_type": "markdown",
      "metadata": {
        "id": "D0Yov_meIl9i"
      },
      "source": [
        "####Create an RDD out of this table####"
      ]
    },
    {
      "cell_type": "code",
      "metadata": {
        "id": "96SIkmr7GtLf",
        "colab": {
          "base_uri": "https://localhost:8080/",
          "height": 136
        },
        "outputId": "8b466ff7-6fbb-4582-d64a-426b12a0edd4"
      },
      "source": [
        "movies = sc.parallelize(['\"The Martian\", 141, 7.6',\n",
        "                    '\"Bridge of Spies\", 141, 8.0',\n",
        "                    '\"The Imitation Game\", 113, 8.0',\n",
        "                    '\"The Wolf of Wall Street\", 180, 7.9',\n",
        "                    '\"Creed\", 132, 8.6',\n",
        "                    '\"John Wick\", 101, 7.2',\n",
        "                    '\"The Hundred-Foot Journey\", 122, 7.3'])\n",
        "movies.collect()"
      ],
      "execution_count": null,
      "outputs": [
        {
          "output_type": "execute_result",
          "data": {
            "text/plain": [
              "['\"The Martian\", 141, 7.6',\n",
              " '\"Bridge of Spies\", 141, 8.0',\n",
              " '\"The Imitation Game\", 113, 8.0',\n",
              " '\"The Wolf of Wall Street\", 180, 7.9',\n",
              " '\"Creed\", 132, 8.6',\n",
              " '\"John Wick\", 101, 7.2',\n",
              " '\"The Hundred-Foot Journey\", 122, 7.3']"
            ]
          },
          "metadata": {
            "tags": []
          },
          "execution_count": 48
        }
      ]
    },
    {
      "cell_type": "markdown",
      "metadata": {
        "id": "58_2lnDHIsdw"
      },
      "source": [
        "####How many movies are in this list? ####"
      ]
    },
    {
      "cell_type": "code",
      "metadata": {
        "id": "x6QxX_IL2Md8",
        "colab": {
          "base_uri": "https://localhost:8080/",
          "height": 34
        },
        "outputId": "40c6e2c3-eaa9-492d-ddd4-7c6aa1f614c8"
      },
      "source": [
        "movies.count()"
      ],
      "execution_count": null,
      "outputs": [
        {
          "output_type": "execute_result",
          "data": {
            "text/plain": [
              "7"
            ]
          },
          "metadata": {
            "tags": []
          },
          "execution_count": 49
        }
      ]
    },
    {
      "cell_type": "code",
      "metadata": {
        "id": "262X1SPiI10p",
        "colab": {
          "base_uri": "https://localhost:8080/",
          "height": 35
        },
        "outputId": "8869b919-b441-4167-e355-cd6fe02afe51"
      },
      "source": [
        "movies.count()"
      ],
      "execution_count": null,
      "outputs": [
        {
          "output_type": "execute_result",
          "data": {
            "text/plain": [
              "7"
            ]
          },
          "metadata": {
            "tags": []
          },
          "execution_count": 40
        }
      ]
    },
    {
      "cell_type": "markdown",
      "metadata": {
        "id": "Zu4Kz0XII2Wm"
      },
      "source": [
        "####what is the total duration of all the movies?"
      ]
    },
    {
      "cell_type": "code",
      "metadata": {
        "id": "yXR7xP0G2cir",
        "colab": {
          "base_uri": "https://localhost:8080/",
          "height": 51
        },
        "outputId": "e1376420-32b5-4e77-acf2-978de1b98a67"
      },
      "source": [
        "mv=movies.map(lambda x: int(x.split(\",\")[1]))\n",
        "print(mv.collect())\n",
        "\n",
        "mv1=mv.reduce(lambda x,y:x+y)\n",
        "print(mv1)"
      ],
      "execution_count": null,
      "outputs": [
        {
          "output_type": "stream",
          "text": [
            "[141, 141, 113, 180, 132, 101, 122]\n",
            "930\n"
          ],
          "name": "stdout"
        }
      ]
    },
    {
      "cell_type": "code",
      "metadata": {
        "id": "t2QPOnAYI6Gm",
        "colab": {
          "base_uri": "https://localhost:8080/",
          "height": 51
        },
        "outputId": "d699161b-f06e-4a93-f813-233968d29877"
      },
      "source": [
        "movies_year = movies.map(lambda x:int(x.split(\",\")[1]))\n",
        "print(movies_year.collect())\n",
        "print(\"Total duration of movies: %d minutes\" % movies_year.reduce(lambda current, next: current+next))"
      ],
      "execution_count": null,
      "outputs": [
        {
          "output_type": "stream",
          "text": [
            "[141, 141, 113, 180, 132, 101, 122]\n",
            "Total duration of movies: 930 minutes\n"
          ],
          "name": "stdout"
        }
      ]
    },
    {
      "cell_type": "markdown",
      "metadata": {
        "id": "5PraBia3I610"
      },
      "source": [
        "####What’s the average user rating for all the movies?"
      ]
    },
    {
      "cell_type": "code",
      "metadata": {
        "id": "uSu0uU2M5FJj",
        "colab": {
          "base_uri": "https://localhost:8080/",
          "height": 51
        },
        "outputId": "38779119-d146-4ce6-a1fe-a6fd8442f021"
      },
      "source": [
        "rating=movies.map(lambda x:float(x.split(\",\")[2]))\n",
        "print(rating.collect())\n",
        "rat=rating.reduce(lambda x,y:x+y)\n",
        "print(rat/movies.count())"
      ],
      "execution_count": null,
      "outputs": [
        {
          "output_type": "stream",
          "text": [
            "[7.6, 8.0, 8.0, 7.9, 8.6, 7.2, 7.3]\n",
            "7.8\n"
          ],
          "name": "stdout"
        }
      ]
    },
    {
      "cell_type": "code",
      "metadata": {
        "id": "CzwXftFKJAKl",
        "colab": {
          "base_uri": "https://localhost:8080/",
          "height": 51
        },
        "outputId": "cf158bce-3d94-4097-a3e0-bc11d2e55e49"
      },
      "source": [
        "movies_ratings = movies.map(lambda x:float(x.split(\",\")[2]))\n",
        "print(movies_ratings.collect())\n",
        "movies_rating_sum = movies_ratings.reduce(lambda current, next: current+next)\n",
        "print(\"The average user rating for all movies is %.2f\" % (movies_rating_sum/movies.count()))\n"
      ],
      "execution_count": null,
      "outputs": [
        {
          "output_type": "stream",
          "text": [
            "[7.6, 8.0, 8.0, 7.9, 8.6, 7.2, 7.3]\n",
            "The average user rating for all movies is 7.80\n"
          ],
          "name": "stdout"
        }
      ]
    },
    {
      "cell_type": "markdown",
      "metadata": {
        "id": "qi0fjaqnJBH8"
      },
      "source": [
        "####How many movies are rated as 8.0?"
      ]
    },
    {
      "cell_type": "code",
      "metadata": {
        "id": "jGInZoy65qXA",
        "colab": {
          "base_uri": "https://localhost:8080/",
          "height": 34
        },
        "outputId": "06fcdcc8-4b9d-452b-cbea-c32a2c4d031e"
      },
      "source": [
        "movies.filter(lambda x: float(x.split(\",\")[2])==8.0).count()\n"
      ],
      "execution_count": null,
      "outputs": [
        {
          "output_type": "execute_result",
          "data": {
            "text/plain": [
              "2"
            ]
          },
          "metadata": {
            "tags": []
          },
          "execution_count": 85
        }
      ]
    },
    {
      "cell_type": "code",
      "metadata": {
        "id": "rowU4s5hJYjJ",
        "colab": {
          "base_uri": "https://localhost:8080/",
          "height": 34
        },
        "outputId": "170e3cf5-8d87-4a87-92f4-7285be93f8ba"
      },
      "source": [
        "movies_ratings.filter(lambda x: x==8.0).count()"
      ],
      "execution_count": null,
      "outputs": [
        {
          "output_type": "execute_result",
          "data": {
            "text/plain": [
              "2"
            ]
          },
          "metadata": {
            "tags": []
          },
          "execution_count": 89
        }
      ]
    },
    {
      "cell_type": "markdown",
      "metadata": {
        "id": "v_fBIFx-JZFO"
      },
      "source": [
        "####What’s the percentage of movies rated higher or equal to 8.0"
      ]
    },
    {
      "cell_type": "code",
      "metadata": {
        "id": "7xmMLmkp6hyk",
        "colab": {
          "base_uri": "https://localhost:8080/",
          "height": 34
        },
        "outputId": "20275bb2-c698-4cd1-d4f1-dcdf2f6249db"
      },
      "source": [
        "k=round((movies.filter(lambda x: float(x.split(\",\")[2])>=8.0).count()/movies.count())*100,1)\n",
        "print(\"%.1f%%\" %k)"
      ],
      "execution_count": null,
      "outputs": [
        {
          "output_type": "stream",
          "text": [
            "42.9%\n"
          ],
          "name": "stdout"
        }
      ]
    },
    {
      "cell_type": "code",
      "metadata": {
        "id": "SO8yv0RNJdR_",
        "colab": {
          "base_uri": "https://localhost:8080/",
          "height": 34
        },
        "outputId": "da2e7ece-997a-4084-fcaa-80c2d5a8e32a"
      },
      "source": [
        "movies_ratings.filter(lambda x: x>=8.0).count()/movies.count()\n",
        "\n"
      ],
      "execution_count": null,
      "outputs": [
        {
          "output_type": "execute_result",
          "data": {
            "text/plain": [
              "0.42857142857142855"
            ]
          },
          "metadata": {
            "tags": []
          },
          "execution_count": 99
        }
      ]
    }
  ]
}