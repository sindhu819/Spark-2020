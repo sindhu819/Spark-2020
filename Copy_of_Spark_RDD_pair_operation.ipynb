{
  "nbformat": 4,
  "nbformat_minor": 0,
  "metadata": {
    "colab": {
      "name": "Copy of Spark RDD pair operation",
      "provenance": [],
      "collapsed_sections": [],
      "include_colab_link": true
    },
    "kernelspec": {
      "name": "python3",
      "display_name": "Python 3"
    }
  },
  "cells": [
    {
      "cell_type": "markdown",
      "metadata": {
        "id": "view-in-github",
        "colab_type": "text"
      },
      "source": [
        "<a href=\"https://colab.research.google.com/github/sindhu819/Spark-2020/blob/main/Copy_of_Spark_RDD_pair_operation.ipynb\" target=\"_parent\"><img src=\"https://colab.research.google.com/assets/colab-badge.svg\" alt=\"Open In Colab\"/></a>"
      ]
    },
    {
      "cell_type": "markdown",
      "metadata": {
        "id": "sq8U3BtmhtRx"
      },
      "source": [
        "\n",
        "# **RDD pair Operation**\n",
        "\n",
        "To run spark in Colab, we need to first install pyspark\n"
      ]
    },
    {
      "cell_type": "code",
      "metadata": {
        "id": "hofqR6k12zss",
        "colab": {
          "base_uri": "https://localhost:8080/",
          "height": 408
        },
        "outputId": "acf1dfc8-bcbc-4ff7-d745-0eb2e68e8ed5"
      },
      "source": [
        "!apt-get update\n",
        "!apt-get install openjdk-8-jdk-headless -qq > /dev/null\n",
        "!wget -q http://apache.osuosl.org/spark/spark-2.4.4/spark-2.4.4-bin-hadoop2.7.tgz\n",
        "!tar xf spark-2.4.4-bin-hadoop2.7.tgz\n",
        "!pip install -q findspark\n",
        "\n",
        "import os\n",
        "os.environ[\"JAVA_HOME\"] = \"/usr/lib/jvm/java-8-openjdk-amd64\"\n",
        "os.environ[\"SPARK_HOME\"] = \"/content/spark-2.4.4-bin-hadoop2.7\"\n",
        "\n",
        "import findspark\n",
        "findspark.init()\n",
        "from pyspark.sql import SparkSession\n",
        "spark = SparkSession.builder.master(\"local[*]\").getOrCreate()"
      ],
      "execution_count": null,
      "outputs": [
        {
          "output_type": "stream",
          "text": [
            "\r0% [Working]\r            \rHit:1 http://ppa.launchpad.net/graphics-drivers/ppa/ubuntu bionic InRelease\n",
            "\r0% [Waiting for headers] [Connecting to security.ubuntu.com (91.189.91.24)] [Co\r                                                                               \rHit:2 http://archive.ubuntu.com/ubuntu bionic InRelease\n",
            "\r0% [Waiting for headers] [Connecting to security.ubuntu.com (91.189.91.24)] [Co\r0% [1 InRelease gpgv 21.3 kB] [Waiting for headers] [Connecting to security.ubu\r                                                                               \rGet:3 http://ppa.launchpad.net/marutter/c2d4u3.5/ubuntu bionic InRelease [15.4 kB]\n",
            "\r0% [1 InRelease gpgv 21.3 kB] [Waiting for headers] [Connecting to security.ubu\r0% [1 InRelease gpgv 21.3 kB] [Waiting for headers] [Connecting to security.ubu\r                                                                               \rGet:4 http://archive.ubuntu.com/ubuntu bionic-updates InRelease [88.7 kB]\n",
            "\r0% [1 InRelease gpgv 21.3 kB] [4 InRelease 14.2 kB/88.7 kB 16%] [Connecting to \r0% [1 InRelease gpgv 21.3 kB] [Waiting for headers] [Waiting for headers] [Conn\r                                                                               \rGet:5 http://archive.ubuntu.com/ubuntu bionic-backports InRelease [74.6 kB]\n",
            "\r0% [1 InRelease gpgv 21.3 kB] [5 InRelease 11.3 kB/74.6 kB 15%] [Waiting for he\r0% [1 InRelease gpgv 21.3 kB] [Waiting for headers] [Connecting to cloud.r-proj\r                                                                               \rGet:6 http://security.ubuntu.com/ubuntu bionic-security InRelease [88.7 kB]\n",
            "\r0% [1 InRelease gpgv 21.3 kB] [6 InRelease 14.2 kB/88.7 kB 16%] [Connecting to \r                                                                               \rIgn:7 https://developer.download.nvidia.com/compute/cuda/repos/ubuntu1804/x86_64  InRelease\n",
            "\r0% [1 InRelease gpgv 21.3 kB] [6 InRelease 14.2 kB/88.7 kB 16%] [Connecting to \r0% [6 InRelease 43.1 kB/88.7 kB 49%] [Connecting to cloud.r-project.org] [Waiti\r0% [2 InRelease gpgv 242 kB] [6 InRelease 43.1 kB/88.7 kB 49%] [Connecting to c\r                                                                               \rIgn:8 https://developer.download.nvidia.com/compute/machine-learning/repos/ubuntu1804/x86_64  InRelease\n",
            "\r0% [2 InRelease gpgv 242 kB] [6 InRelease 48.9 kB/88.7 kB 55%] [Connecting to c\r                                                                               \rHit:9 https://developer.download.nvidia.com/compute/cuda/repos/ubuntu1804/x86_64  Release\n",
            "Hit:10 https://developer.download.nvidia.com/compute/machine-learning/repos/ubuntu1804/x86_64  Release\n",
            "Get:11 http://ppa.launchpad.net/marutter/c2d4u3.5/ubuntu bionic/main Sources [1,742 kB]\n",
            "Get:12 http://ppa.launchpad.net/marutter/c2d4u3.5/ubuntu bionic/main amd64 Packages [840 kB]\n",
            "Get:13 http://archive.ubuntu.com/ubuntu bionic-updates/universe amd64 Packages [1,322 kB]\n",
            "Get:14 http://archive.ubuntu.com/ubuntu bionic-updates/main amd64 Packages [1,057 kB]\n",
            "Get:15 http://archive.ubuntu.com/ubuntu bionic-updates/restricted amd64 Packages [32.7 kB]\n",
            "Get:16 http://archive.ubuntu.com/ubuntu bionic-updates/multiverse amd64 Packages [10.5 kB]\n",
            "Get:19 http://security.ubuntu.com/ubuntu bionic-security/universe amd64 Packages [795 kB]\n",
            "Get:20 http://security.ubuntu.com/ubuntu bionic-security/main amd64 Packages [761 kB]\n",
            "Get:21 http://security.ubuntu.com/ubuntu bionic-security/multiverse amd64 Packages [6,781 B]\n",
            "Get:22 https://cloud.r-project.org/bin/linux/ubuntu bionic-cran35/ InRelease [3,626 B]\n",
            "Get:23 https://cloud.r-project.org/bin/linux/ubuntu bionic-cran35/ Packages [75.1 kB]\n",
            "Fetched 6,914 kB in 5s (1,307 kB/s)\n",
            "Reading package lists... Done\n"
          ],
          "name": "stdout"
        }
      ]
    },
    {
      "cell_type": "code",
      "metadata": {
        "id": "fxPoVgDE7nbz"
      },
      "source": [
        "from pyspark import SparkContext\n",
        "sc = spark.sparkContext"
      ],
      "execution_count": null,
      "outputs": []
    },
    {
      "cell_type": "markdown",
      "metadata": {
        "id": "dToMHxh6TZf9"
      },
      "source": [
        "##Pair RDD:#\n",
        "*\tKey-value pair,(key, value), is a tuple with two elements\n",
        "*\tKeys and values can be atomic values, collections, or objects\n",
        "*\tKeys need not be unique among different pairs\n",
        "*\tKey-value semantics enables parallel computation\n",
        "*\tRDD partitioning: pairs with the same key can be grouped into one partition for efficient computation\n",
        "*\tRDD operations equally apply to pair RDDs\n",
        "*\tAllow aggregate, sort, and group by keys\n",
        "\n",
        "\n",
        "\n"
      ]
    },
    {
      "cell_type": "code",
      "metadata": {
        "id": "kpSUMPfCOcz0",
        "colab": {
          "base_uri": "https://localhost:8080/",
          "height": 102
        },
        "outputId": "50bea5f7-c357-4cda-dbb4-3cf658985a54"
      },
      "source": [
        "userVisits = [ (\"chris\",\"sjsu.edu\"), (\"jane\",\"planetcassandra.org\"),(\"chris\",\"spark.apache.org\") ]\n",
        "pairRDD = sc.parallelize(userVisits)\n",
        "print (pairRDD.collect())\n",
        "# Let's keep only those with key as \"chris\"\n",
        "chris_only = pairRDD.filter(lambda x:x[0] == \"chris\")\n",
        "print(chris_only.collect())\n",
        "chris_only_cap = chris_only.map(lambda x: (x[0].capitalize(), x[1]))\n",
        "print (chris_only_cap.collect())\n",
        "for i in range (0, chris_only_cap.count()):\n",
        "  print (\"%s visited the website www.%s\" % (chris_only_cap.collect()[i][0],chris_only_cap.collect()[i][1]))"
      ],
      "execution_count": null,
      "outputs": [
        {
          "output_type": "stream",
          "text": [
            "[('chris', 'sjsu.edu'), ('jane', 'planetcassandra.org'), ('chris', 'spark.apache.org')]\n",
            "[('chris', 'sjsu.edu'), ('chris', 'spark.apache.org')]\n",
            "[('Chris', 'sjsu.edu'), ('Chris', 'spark.apache.org')]\n",
            "Chris visited the website www.sjsu.edu\n",
            "Chris visited the website www.spark.apache.org\n"
          ],
          "name": "stdout"
        }
      ]
    },
    {
      "cell_type": "code",
      "metadata": {
        "id": "tdRERJhSVbIn",
        "colab": {
          "base_uri": "https://localhost:8080/",
          "height": 119
        },
        "outputId": "b36d465d-829f-4a00-bf0b-c1218ce61b06"
      },
      "source": [
        "pairRDD = sc.parallelize([(\"san\",1),(\"jose\",2),(\"san\",3)])\n",
        "print(\"Sort by keys in pairRDD: %s\" % pairRDD.sortByKey(True).collect())\n",
        "print(\"The keys in pairRDD: %s\" % pairRDD.keys().distinct().collect())\n",
        "print(\"The values in pairRDD: %s\" % pairRDD.values().collect())\n",
        "print(\"The values matching the key san:\", pairRDD.lookup(\"san\"))\n",
        "print(\"key-value pairs (if a key is repeated, only the last one will be shown):\", pairRDD.collectAsMap()) # if we use collect as map it returns the dict without repeats\n",
        "print(\"Count by the key:\", pairRDD.countByKey())"
      ],
      "execution_count": null,
      "outputs": [
        {
          "output_type": "stream",
          "text": [
            "Sort by keys in pairRDD: [('jose', 2), ('san', 1), ('san', 3)]\n",
            "The keys in pairRDD: ['san', 'jose']\n",
            "The values in pairRDD: [1, 2, 3]\n",
            "The values matching the key san: [1, 3]\n",
            "key-value pairs (if a key is repeated, only the last one will be shown): {'san': 3, 'jose': 2}\n",
            "Count by the key: defaultdict(<class 'int'>, {'san': 2, 'jose': 1})\n"
          ],
          "name": "stdout"
        }
      ]
    },
    {
      "cell_type": "code",
      "metadata": {
        "id": "ZGHvgYQacRAP",
        "colab": {
          "base_uri": "https://localhost:8080/",
          "height": 34
        },
        "outputId": "c8962812-ae08-41f7-f0ec-7f46ff18ee3c"
      },
      "source": [
        "pairRDD = sc.parallelize([(\"san\",1),(\"jose\",2),(\"san\",3)])\n",
        "pairRDD.collectAsMap()"
      ],
      "execution_count": null,
      "outputs": [
        {
          "output_type": "execute_result",
          "data": {
            "text/plain": [
              "{'jose': 2, 'san': 3}"
            ]
          },
          "metadata": {
            "tags": []
          },
          "execution_count": 10
        }
      ]
    },
    {
      "cell_type": "code",
      "metadata": {
        "id": "WxSgrkdEgUVP",
        "colab": {
          "base_uri": "https://localhost:8080/",
          "height": 52
        },
        "outputId": "73629d76-ad59-4bcc-af6e-63a63e65ce23"
      },
      "source": [
        "pairRDD_san_1 = pairRDD.filter(lambda x: (x[0] == \"san\" and x[1] > 1))\n",
        "print(\"Filtering those RDD with san in key and value great than 1:\",pairRDD_san_1.collect())\n",
        "print(\"Capitalize the first letter of the key and squarign the value: \",pairRDD_san_1.map( lambda t:(t[0].capitalize(), t[1] * t[1])).collect())"
      ],
      "execution_count": null,
      "outputs": [
        {
          "output_type": "stream",
          "text": [
            "Filtering those RDD with san in key and value great than 1: [('san', 3)]\n",
            "Capitalize the first letter of the key and squarign the value:  [('San', 9)]\n"
          ],
          "name": "stdout"
        }
      ]
    },
    {
      "cell_type": "code",
      "metadata": {
        "id": "nqo_XpdVONlr",
        "colab": {
          "base_uri": "https://localhost:8080/",
          "height": 34
        },
        "outputId": "7c3f9dcd-e649-4d04-d5bb-28c60dc506e8"
      },
      "source": [
        "pairRDD_san_2 = pairRDD.filter(lambda x: (x[0] == \"jose\" and x[1] ==2))\n",
        "print(\"Filtering those RDD with san in key and value great than 1:\",pairRDD_san_2.collect())"
      ],
      "execution_count": null,
      "outputs": [
        {
          "output_type": "stream",
          "text": [
            "Filtering those RDD with san in key and value great than 1: [('jose', 2)]\n"
          ],
          "name": "stdout"
        }
      ]
    },
    {
      "cell_type": "code",
      "metadata": {
        "id": "4fZRYkxuO-ab",
        "colab": {
          "base_uri": "https://localhost:8080/",
          "height": 34
        },
        "outputId": "3694358b-5e65-4ea8-bfa9-258e5c43ef46"
      },
      "source": [
        "pairRDD.collect()[1]"
      ],
      "execution_count": null,
      "outputs": [
        {
          "output_type": "execute_result",
          "data": {
            "text/plain": [
              "('jose', 2)"
            ]
          },
          "metadata": {
            "tags": []
          },
          "execution_count": 12
        }
      ]
    },
    {
      "cell_type": "code",
      "metadata": {
        "id": "7Q_-vQdka7wX",
        "colab": {
          "base_uri": "https://localhost:8080/",
          "height": 35
        },
        "outputId": "613472a1-8c80-49bc-901d-c6d9ff155712"
      },
      "source": [
        "print(sc.defaultParallelism)"
      ],
      "execution_count": null,
      "outputs": [
        {
          "output_type": "stream",
          "text": [
            "2\n"
          ],
          "name": "stdout"
        }
      ]
    },
    {
      "cell_type": "markdown",
      "metadata": {
        "id": "NdvQDDIWXkPn"
      },
      "source": [
        "### Inner Join ###"
      ]
    },
    {
      "cell_type": "code",
      "metadata": {
        "id": "W_WIFZKtXm-9",
        "colab": {
          "base_uri": "https://localhost:8080/",
          "height": 35
        },
        "outputId": "6873e6eb-ee80-43c6-f243-2e459fff821f"
      },
      "source": [
        "rdd1 = sc.parallelize([ (\"k1\",1),(\"k5\",5),(\"k3\",3),(\"k3\",33) ])\n",
        "rdd2 = sc.parallelize([(\"k1\",1),(\"k2\",2),(\"k1\",11),(\"k3\",3) ])\n",
        "rdd3 = rdd1.join(rdd2)\n",
        "rdd3.collect()\n"
      ],
      "execution_count": null,
      "outputs": [
        {
          "output_type": "execute_result",
          "data": {
            "text/plain": [
              "[('k1', (1, 1)), ('k1', (1, 11)), ('k3', (3, 3)), ('k3', (33, 3))]"
            ]
          },
          "metadata": {
            "tags": []
          },
          "execution_count": 192
        }
      ]
    },
    {
      "cell_type": "markdown",
      "metadata": {
        "id": "hrIEGHZxYDCP"
      },
      "source": [
        "### Left Outer Join ###"
      ]
    },
    {
      "cell_type": "code",
      "metadata": {
        "id": "gLFPI6fWYIkc",
        "colab": {
          "base_uri": "https://localhost:8080/",
          "height": 104
        },
        "outputId": "95324539-e649-4fb8-ff80-09f75833ff8b"
      },
      "source": [
        "rdd1 = sc.parallelize([ (\"k1\",1),(\"k5\",5),(\"k3\",3),(\"k3\",33) ])\n",
        "rdd2 = sc.parallelize([(\"k1\",1),(\"k2\",2),(\"k1\",11),(\"k3\",3) ])\n",
        "rdd3 = rdd1.leftOuterJoin(rdd2)\n",
        "rdd3.collect()"
      ],
      "execution_count": null,
      "outputs": [
        {
          "output_type": "execute_result",
          "data": {
            "text/plain": [
              "[('k1', (1, 1)),\n",
              " ('k1', (1, 11)),\n",
              " ('k5', (5, None)),\n",
              " ('k3', (3, 3)),\n",
              " ('k3', (33, 3))]"
            ]
          },
          "metadata": {
            "tags": []
          },
          "execution_count": 193
        }
      ]
    },
    {
      "cell_type": "markdown",
      "metadata": {
        "id": "_A3nqN4fYdLR"
      },
      "source": [
        "### Right Outer Join ###"
      ]
    },
    {
      "cell_type": "code",
      "metadata": {
        "id": "HyFX_IK5YcWh",
        "colab": {
          "base_uri": "https://localhost:8080/",
          "height": 104
        },
        "outputId": "64d8229c-bccb-455e-cb6d-859663280530"
      },
      "source": [
        "rdd1 = sc.parallelize([ (\"k1\",1),(\"k5\",5),(\"k3\",3),(\"k3\",33) ])\n",
        "rdd2 = sc.parallelize([(\"k1\",1),(\"k2\",2),(\"k1\",11),(\"k3\",3) ])\n",
        "rdd3 = rdd1.rightOuterJoin(rdd2)\n",
        "rdd3.collect()"
      ],
      "execution_count": null,
      "outputs": [
        {
          "output_type": "execute_result",
          "data": {
            "text/plain": [
              "[('k1', (1, 1)),\n",
              " ('k1', (1, 11)),\n",
              " ('k2', (None, 2)),\n",
              " ('k3', (3, 3)),\n",
              " ('k3', (33, 3))]"
            ]
          },
          "metadata": {
            "tags": []
          },
          "execution_count": 194
        }
      ]
    },
    {
      "cell_type": "markdown",
      "metadata": {
        "id": "OvnWn2ckY5pC"
      },
      "source": [
        "### subtractByKey example ####"
      ]
    },
    {
      "cell_type": "code",
      "metadata": {
        "id": "p_3btt96Y_Ag",
        "colab": {
          "base_uri": "https://localhost:8080/",
          "height": 35
        },
        "outputId": "9e7385a6-cff6-4d19-8421-1bbec2091400"
      },
      "source": [
        "rdd1.subtractByKey(rdd2).collect()"
      ],
      "execution_count": null,
      "outputs": [
        {
          "output_type": "execute_result",
          "data": {
            "text/plain": [
              "[('k5', 5)]"
            ]
          },
          "metadata": {
            "tags": []
          },
          "execution_count": 195
        }
      ]
    },
    {
      "cell_type": "markdown",
      "metadata": {
        "id": "LVGPWcE1q28U"
      },
      "source": [
        "### customized parallelism  ###"
      ]
    },
    {
      "cell_type": "code",
      "metadata": {
        "id": "CnqE9mGAq28V",
        "colab": {
          "base_uri": "https://localhost:8080/",
          "height": 68
        },
        "outputId": "782435be-a845-444c-9e77-f35ebc010ca9"
      },
      "source": [
        "%%time\n",
        "data = [(\"a\", 3), (\"b\", 4), (\"a\", 1)]\n",
        "standard = sc.parallelize(data).reduceByKey(lambda x, y: x + y) # Default parallelilism with numTask default value as 8\n",
        "print(standard.collect())"
      ],
      "execution_count": null,
      "outputs": [
        {
          "output_type": "stream",
          "text": [
            "[('b', 4), ('a', 4)]\n",
            "CPU times: user 13.5 ms, sys: 2.47 ms, total: 16 ms\n",
            "Wall time: 237 ms\n"
          ],
          "name": "stdout"
        }
      ]
    },
    {
      "cell_type": "code",
      "metadata": {
        "id": "VREaFNYwq28X",
        "colab": {
          "base_uri": "https://localhost:8080/",
          "height": 68
        },
        "outputId": "6e6d0e7f-3d98-4c72-da37-1df7ebd7f144"
      },
      "source": [
        "%%time\n",
        "data = [(\"a\", 3), (\"b\", 4), (\"a\", 1)]\n",
        "customized = sc.parallelize(data).reduceByKey(lambda x, y: x + y, 10) # Custom parallelism with numTasks set to 10\n",
        "print(customized.collect())"
      ],
      "execution_count": null,
      "outputs": [
        {
          "output_type": "stream",
          "text": [
            "[('b', 4), ('a', 4)]\n",
            "CPU times: user 14 ms, sys: 3.21 ms, total: 17.2 ms\n",
            "Wall time: 562 ms\n"
          ],
          "name": "stdout"
        }
      ]
    },
    {
      "cell_type": "markdown",
      "metadata": {
        "id": "yzp12YABKsPj"
      },
      "source": [
        ""
      ]
    },
    {
      "cell_type": "markdown",
      "metadata": {
        "id": "r1hlQxTyQ3f4"
      },
      "source": [
        "###We will import an csv file to illustrate some more RDD opearations."
      ]
    },
    {
      "cell_type": "code",
      "metadata": {
        "id": "1WbzJM4cYp1I"
      },
      "source": [
        "#1 Code to read csv file into colaboratory:\n",
        "!pip install -U -q PyDrive\n",
        "from pydrive.auth import GoogleAuth\n",
        "from pydrive.drive import GoogleDrive\n",
        "from google.colab import auth\n",
        "from oauth2client.client import GoogleCredentials\n",
        "\n",
        "# 1. Authenticate and create the PyDrive client.\n",
        "auth.authenticate_user()\n",
        "gauth = GoogleAuth()\n",
        "gauth.credentials = GoogleCredentials.get_application_default()\n",
        "drive = GoogleDrive(gauth)"
      ],
      "execution_count": null,
      "outputs": []
    },
    {
      "cell_type": "code",
      "metadata": {
        "id": "ubjxW9IrYrMG"
      },
      "source": [
        "#2. Get the file\n",
        "#make sure you upload all your data files to your Google drive and change share->Advanced->change->anyone with the link can view\n",
        "downloaded = drive.CreateFile({'id':'1ilCXuYltyjv1auHn8FY_Csksep9gz03c'}) # replace the id with id of file you want to access\n",
        "downloaded.GetContentFile('video-years.csv')"
      ],
      "execution_count": null,
      "outputs": []
    },
    {
      "cell_type": "markdown",
      "metadata": {
        "id": "JInuBOJSECPt"
      },
      "source": [
        "## Example 1 ##"
      ]
    },
    {
      "cell_type": "code",
      "metadata": {
        "id": "7TyI8L1dAJyT",
        "colab": {
          "base_uri": "https://localhost:8080/",
          "height": 170
        },
        "outputId": "57620e44-ffd8-4612-992b-c539820bac46"
      },
      "source": [
        "records = sc.textFile('video-years.csv')\n",
        "records.collect() # See what got imported into this RDD"
      ],
      "execution_count": null,
      "outputs": [
        {
          "output_type": "execute_result",
          "data": {
            "text/plain": [
              "['b6ea95c5-9aea-11e5-a6ca-8b496c707234,\"Monsters Inc.\",2001',\n",
              " 'b6d734d1-9aea-11e5-a6ca-8b496c707234,\"Stuart Little 2\",2002',\n",
              " 'b6c5cfb5-9aea-11e5-a6ca-8b496c707234,\"Piglet\\'s Big Movie\",2003',\n",
              " 'b6d22bc1-9aea-11e5-a6ca-8b496c707234,\"Jimmy Neutron: Boy Genius\",2001',\n",
              " 'b6c31093-9aea-11e5-a6ca-8b496c707234,\"The Country Bears\",2002',\n",
              " 'b6d89469-9aea-11e5-a6ca-8b496c707234,\"The Jungle Book 2\",2003',\n",
              " 'b6cd70d5-9aea-11e5-a6ca-8b496c707234,\"The Tigger Movie\",2000',\n",
              " 'b6c31095-9aea-11e5-a6ca-8b496c707234,\"Tarzan & Jane\",2002',\n",
              " 'b6d9cce1-9aea-11e5-a6ca-8b496c707234,\"Finding Nemo\",2003']"
            ]
          },
          "metadata": {
            "tags": []
          },
          "execution_count": 9
        }
      ]
    },
    {
      "cell_type": "code",
      "metadata": {
        "id": "Eh7TW5MAKDk7",
        "colab": {
          "base_uri": "https://localhost:8080/",
          "height": 34
        },
        "outputId": "21a2df73-b850-4f15-f46a-5a22f7fb3474"
      },
      "source": [
        "records.count()"
      ],
      "execution_count": null,
      "outputs": [
        {
          "output_type": "execute_result",
          "data": {
            "text/plain": [
              "9"
            ]
          },
          "metadata": {
            "tags": []
          },
          "execution_count": 10
        }
      ]
    },
    {
      "cell_type": "markdown",
      "metadata": {
        "id": "-PKoo_RTCmiZ"
      },
      "source": [
        "### Create key-value RDD pairs.###"
      ]
    },
    {
      "cell_type": "code",
      "metadata": {
        "id": "d2V9TyWP_Lqk",
        "colab": {
          "base_uri": "https://localhost:8080/",
          "height": 68
        },
        "outputId": "cf7ba416-23c1-42db-c92b-11d7dd0a1b73"
      },
      "source": [
        "pair = records.map(lambda x: (x.split(\",\")[1].replace(\"\\\"\",\"\"),x.split(\",\")[2]))\n",
        "pair.take(3)"
      ],
      "execution_count": null,
      "outputs": [
        {
          "output_type": "execute_result",
          "data": {
            "text/plain": [
              "[('Monsters Inc.', '2001'),\n",
              " ('Stuart Little 2', '2002'),\n",
              " (\"Piglet's Big Movie\", '2003')]"
            ]
          },
          "metadata": {
            "tags": []
          },
          "execution_count": 20
        }
      ]
    },
    {
      "cell_type": "code",
      "metadata": {
        "id": "3prSewuQ9yMG",
        "colab": {
          "base_uri": "https://localhost:8080/",
          "height": 34
        },
        "outputId": "bb91c9b6-bc6b-4c11-807c-43fa43636a5f"
      },
      "source": [
        "type(pair.take(2))"
      ],
      "execution_count": null,
      "outputs": [
        {
          "output_type": "execute_result",
          "data": {
            "text/plain": [
              "list"
            ]
          },
          "metadata": {
            "tags": []
          },
          "execution_count": 39
        }
      ]
    },
    {
      "cell_type": "code",
      "metadata": {
        "id": "cSagUxhsM0Sf",
        "colab": {
          "base_uri": "https://localhost:8080/",
          "height": 68
        },
        "outputId": "843e5dc4-5a5e-48aa-946b-b1114378bb60"
      },
      "source": [
        "pair1 = records.map(lambda x: (x.split(\",\")[1],x.split(\",\")[2]))\n",
        "pair1.take(3)"
      ],
      "execution_count": null,
      "outputs": [
        {
          "output_type": "execute_result",
          "data": {
            "text/plain": [
              "[('\"Monsters Inc.\"', '2001'),\n",
              " ('\"Stuart Little 2\"', '2002'),\n",
              " ('\"Piglet\\'s Big Movie\"', '2003')]"
            ]
          },
          "metadata": {
            "tags": []
          },
          "execution_count": 21
        }
      ]
    }
  ]
}