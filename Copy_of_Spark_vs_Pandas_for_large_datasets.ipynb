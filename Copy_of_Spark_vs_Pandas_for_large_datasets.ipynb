{
  "nbformat": 4,
  "nbformat_minor": 0,
  "metadata": {
    "colab": {
      "name": "Copy of Spark vs. Pandas for large datasets",
      "provenance": [],
      "collapsed_sections": [],
      "include_colab_link": true
    },
    "kernelspec": {
      "name": "python3",
      "display_name": "Python 3"
    },
    "accelerator": "GPU"
  },
  "cells": [
    {
      "cell_type": "markdown",
      "metadata": {
        "id": "view-in-github",
        "colab_type": "text"
      },
      "source": [
        "<a href=\"https://colab.research.google.com/github/sindhu819/Spark-2020/blob/main/Copy_of_Spark_vs_Pandas_for_large_datasets.ipynb\" target=\"_parent\"><img src=\"https://colab.research.google.com/assets/colab-badge.svg\" alt=\"Open In Colab\"/></a>"
      ]
    },
    {
      "cell_type": "markdown",
      "metadata": {
        "id": "sq8U3BtmhtRx"
      },
      "source": [
        "\n",
        "# **Examining performance of Spark vs. Pandas on large datasets**\n",
        "\n",
        "To run spark in Colab, we need to first install pyspark\n"
      ]
    },
    {
      "cell_type": "code",
      "metadata": {
        "id": "tGg9D79Y90eu",
        "colab": {
          "base_uri": "https://localhost:8080/",
          "height": 408
        },
        "outputId": "39de91cd-474c-467f-a9fa-f027eb5a62dc"
      },
      "source": [
        "!apt-get update\n",
        "!apt-get install openjdk-8-jdk-headless -qq > /dev/null\n",
        "!wget -q http://apache.osuosl.org/spark/spark-2.4.4/spark-2.4.4-bin-hadoop2.7.tgz\n",
        "!tar xf spark-2.4.4-bin-hadoop2.7.tgz\n",
        "!pip install -q findspark\n",
        "import os\n",
        "os.environ[\"JAVA_HOME\"] = \"/usr/lib/jvm/java-8-openjdk-amd64\"\n",
        "os.environ[\"SPARK_HOME\"] = \"/content/spark-2.4.4-bin-hadoop2.7\"\n",
        "\n",
        "import findspark\n",
        "findspark.init()\n",
        "from pyspark.sql import SparkSession\n",
        "spark = SparkSession.builder.master(\"local[*]\").getOrCreate()"
      ],
      "execution_count": null,
      "outputs": [
        {
          "output_type": "stream",
          "text": [
            "\r0% [Working]\r            \rGet:1 https://cloud.r-project.org/bin/linux/ubuntu bionic-cran35/ InRelease [3,626 B]\n",
            "Ign:2 https://developer.download.nvidia.com/compute/cuda/repos/ubuntu1804/x86_64  InRelease\n",
            "Ign:3 https://developer.download.nvidia.com/compute/machine-learning/repos/ubuntu1804/x86_64  InRelease\n",
            "Hit:4 https://developer.download.nvidia.com/compute/cuda/repos/ubuntu1804/x86_64  Release\n",
            "Hit:5 https://developer.download.nvidia.com/compute/machine-learning/repos/ubuntu1804/x86_64  Release\n",
            "Get:6 http://security.ubuntu.com/ubuntu bionic-security InRelease [88.7 kB]\n",
            "Hit:7 http://ppa.launchpad.net/graphics-drivers/ppa/ubuntu bionic InRelease\n",
            "Get:8 https://cloud.r-project.org/bin/linux/ubuntu bionic-cran35/ Packages [75.1 kB]\n",
            "Hit:9 http://archive.ubuntu.com/ubuntu bionic InRelease\n",
            "Get:11 http://archive.ubuntu.com/ubuntu bionic-updates InRelease [88.7 kB]\n",
            "Get:12 http://ppa.launchpad.net/marutter/c2d4u3.5/ubuntu bionic InRelease [15.4 kB]\n",
            "Get:14 http://archive.ubuntu.com/ubuntu bionic-backports InRelease [74.6 kB]\n",
            "Get:15 http://security.ubuntu.com/ubuntu bionic-security/multiverse amd64 Packages [6,781 B]\n",
            "Get:16 http://security.ubuntu.com/ubuntu bionic-security/main amd64 Packages [761 kB]\n",
            "Get:17 http://ppa.launchpad.net/marutter/c2d4u3.5/ubuntu bionic/main Sources [1,742 kB]\n",
            "Get:18 http://security.ubuntu.com/ubuntu bionic-security/universe amd64 Packages [794 kB]\n",
            "Get:19 http://archive.ubuntu.com/ubuntu bionic-updates/main amd64 Packages [1,057 kB]\n",
            "Get:20 http://archive.ubuntu.com/ubuntu bionic-updates/multiverse amd64 Packages [10.5 kB]\n",
            "Get:21 http://archive.ubuntu.com/ubuntu bionic-updates/restricted amd64 Packages [32.7 kB]\n",
            "Get:22 http://archive.ubuntu.com/ubuntu bionic-updates/universe amd64 Packages [1,322 kB]\n",
            "Get:23 http://ppa.launchpad.net/marutter/c2d4u3.5/ubuntu bionic/main amd64 Packages [840 kB]\n",
            "Fetched 6,913 kB in 4s (1,893 kB/s)\n",
            "Reading package lists... Done\n"
          ],
          "name": "stdout"
        }
      ]
    },
    {
      "cell_type": "markdown",
      "metadata": {
        "id": "JEb4HTRwiaJx"
      },
      "source": [
        "Congrats! Your Colab is ready to run Pyspark. \n",
        "\n",
        "# EDA\n",
        "\n",
        "The goal of this exercise to explore and analyze the efficency of Spark vs. Pandas in importing and analyzing data"
      ]
    },
    {
      "cell_type": "code",
      "metadata": {
        "id": "7b3SJNZNfDOm"
      },
      "source": [
        "import pandas as pd"
      ],
      "execution_count": null,
      "outputs": []
    },
    {
      "cell_type": "code",
      "metadata": {
        "id": "1WbzJM4cYp1I"
      },
      "source": [
        "#1 Code to read csv file into colaboratory:\n",
        "!pip install -U -q PyDrive\n",
        "from pydrive.auth import GoogleAuth\n",
        "from pydrive.drive import GoogleDrive\n",
        "from google.colab import auth\n",
        "from oauth2client.client import GoogleCredentials\n",
        "\n",
        "# 1. Authenticate and create the PyDrive client.\n",
        "auth.authenticate_user()\n",
        "gauth = GoogleAuth()\n",
        "gauth.credentials = GoogleCredentials.get_application_default()\n",
        "drive = GoogleDrive(gauth)"
      ],
      "execution_count": null,
      "outputs": []
    },
    {
      "cell_type": "markdown",
      "metadata": {
        "id": "NhwQROjRpgru"
      },
      "source": [
        "## We will import a dataset of around 25 million rows in this exercise ##"
      ]
    },
    {
      "cell_type": "code",
      "metadata": {
        "id": "ghyYkgQ3i9oM",
        "colab": {
          "base_uri": "https://localhost:8080/",
          "height": 51
        },
        "outputId": "8b0b876d-df0f-477c-887e-572e61852ebc"
      },
      "source": [
        "%%time\n",
        "#2. Get the file\n",
        "#make sure you upload all your data files to your Google drive and change share->Advanced->change->anyone with the link can view\n",
        "downloaded = drive.CreateFile({'id':'1iD3sjlz23qvbW2sry_WpS5cINWwIINEv'}) # replace the id with id of file you want to access\n",
        "downloaded.GetContentFile('50store_data1to6.csv')"
      ],
      "execution_count": null,
      "outputs": [
        {
          "output_type": "stream",
          "text": [
            "CPU times: user 2.61 s, sys: 4.69 s, total: 7.29 s\n",
            "Wall time: 15.2 s\n"
          ],
          "name": "stdout"
        }
      ]
    },
    {
      "cell_type": "markdown",
      "metadata": {
        "id": "cXJkwfQVHiVa"
      },
      "source": [
        "### Importing csv data into dataframes"
      ]
    },
    {
      "cell_type": "code",
      "metadata": {
        "id": "7TyI8L1dAJyT",
        "colab": {
          "base_uri": "https://localhost:8080/",
          "height": 51
        },
        "outputId": "0b25dd08-d832-4d9d-f47d-366618648fc5"
      },
      "source": [
        "%%time\n",
        "dataset = spark.read.csv('50store_data1to6.csv',inferSchema=True, header =False)"
      ],
      "execution_count": null,
      "outputs": [
        {
          "output_type": "stream",
          "text": [
            "CPU times: user 7.2 ms, sys: 2.63 ms, total: 9.83 ms\n",
            "Wall time: 41.4 s\n"
          ],
          "name": "stdout"
        }
      ]
    },
    {
      "cell_type": "code",
      "metadata": {
        "id": "wXIBChId7kvs",
        "colab": {
          "base_uri": "https://localhost:8080/",
          "height": 51
        },
        "outputId": "a908ca4d-52d9-43a2-c24f-1acfad26553d"
      },
      "source": [
        "%%time\n",
        "data_pd = pd.read_csv('50store_data1to6.csv',header=None)"
      ],
      "execution_count": null,
      "outputs": [
        {
          "output_type": "stream",
          "text": [
            "CPU times: user 18.6 s, sys: 1.71 s, total: 20.3 s\n",
            "Wall time: 20.3 s\n"
          ],
          "name": "stdout"
        }
      ]
    },
    {
      "cell_type": "markdown",
      "metadata": {
        "id": "i_IBE3XAIFQM"
      },
      "source": [
        "### Reading 3 rows of data"
      ]
    },
    {
      "cell_type": "code",
      "metadata": {
        "id": "R6EAgQpLBMae",
        "colab": {
          "base_uri": "https://localhost:8080/",
          "height": 204
        },
        "outputId": "7a752051-722c-4ee5-c690-0da54943c76d"
      },
      "source": [
        "%%time\n",
        "#The Spark way\n",
        "dataset.show(3)"
      ],
      "execution_count": null,
      "outputs": [
        {
          "output_type": "stream",
          "text": [
            "+---+---+----------------+--------------+-----+--------------------+\n",
            "|_c0|_c1|             _c2|           _c3|  _c4|                 _c5|\n",
            "+---+---+----------------+--------------+-----+--------------------+\n",
            "|P11|  1|2016/04/12 18:29|Oil - Avocado1|13.15|Raising Cane's Re...|\n",
            "|P12|  1|2016/04/12 18:29|Oil - Avocado2|13.15|Raising Cane's Re...|\n",
            "|P13|  1|2016/04/12 18:29|Oil - Avocado3|13.15|Raising Cane's Re...|\n",
            "+---+---+----------------+--------------+-----+--------------------+\n",
            "only showing top 3 rows\n",
            "\n",
            "CPU times: user 2.17 ms, sys: 73 µs, total: 2.24 ms\n",
            "Wall time: 363 ms\n"
          ],
          "name": "stdout"
        }
      ]
    },
    {
      "cell_type": "code",
      "metadata": {
        "id": "p8xwcy1VnHqa",
        "colab": {
          "base_uri": "https://localhost:8080/",
          "height": 176
        },
        "outputId": "5eb26b47-07a0-431a-8121-b234d277a172"
      },
      "source": [
        "%%time\n",
        "#The Pandas way\n",
        "data_pd.head(3)"
      ],
      "execution_count": null,
      "outputs": [
        {
          "output_type": "stream",
          "text": [
            "CPU times: user 569 µs, sys: 0 ns, total: 569 µs\n",
            "Wall time: 560 µs\n"
          ],
          "name": "stdout"
        },
        {
          "output_type": "execute_result",
          "data": {
            "text/html": [
              "<div>\n",
              "<style scoped>\n",
              "    .dataframe tbody tr th:only-of-type {\n",
              "        vertical-align: middle;\n",
              "    }\n",
              "\n",
              "    .dataframe tbody tr th {\n",
              "        vertical-align: top;\n",
              "    }\n",
              "\n",
              "    .dataframe thead th {\n",
              "        text-align: right;\n",
              "    }\n",
              "</style>\n",
              "<table border=\"1\" class=\"dataframe\">\n",
              "  <thead>\n",
              "    <tr style=\"text-align: right;\">\n",
              "      <th></th>\n",
              "      <th>0</th>\n",
              "      <th>1</th>\n",
              "      <th>2</th>\n",
              "      <th>3</th>\n",
              "      <th>4</th>\n",
              "      <th>5</th>\n",
              "    </tr>\n",
              "  </thead>\n",
              "  <tbody>\n",
              "    <tr>\n",
              "      <th>0</th>\n",
              "      <td>P11</td>\n",
              "      <td>1</td>\n",
              "      <td>2016/04/12 18:29</td>\n",
              "      <td>Oil - Avocado1</td>\n",
              "      <td>13.15</td>\n",
              "      <td>Raising Cane's Restaurants</td>\n",
              "    </tr>\n",
              "    <tr>\n",
              "      <th>1</th>\n",
              "      <td>P12</td>\n",
              "      <td>1</td>\n",
              "      <td>2016/04/12 18:29</td>\n",
              "      <td>Oil - Avocado2</td>\n",
              "      <td>13.15</td>\n",
              "      <td>Raising Cane's Restaurants</td>\n",
              "    </tr>\n",
              "    <tr>\n",
              "      <th>2</th>\n",
              "      <td>P13</td>\n",
              "      <td>1</td>\n",
              "      <td>2016/04/12 18:29</td>\n",
              "      <td>Oil - Avocado3</td>\n",
              "      <td>13.15</td>\n",
              "      <td>Raising Cane's Restaurants</td>\n",
              "    </tr>\n",
              "  </tbody>\n",
              "</table>\n",
              "</div>"
            ],
            "text/plain": [
              "     0  1                 2               3      4                           5\n",
              "0  P11  1  2016/04/12 18:29  Oil - Avocado1  13.15  Raising Cane's Restaurants\n",
              "1  P12  1  2016/04/12 18:29  Oil - Avocado2  13.15  Raising Cane's Restaurants\n",
              "2  P13  1  2016/04/12 18:29  Oil - Avocado3  13.15  Raising Cane's Restaurants"
            ]
          },
          "metadata": {
            "tags": []
          },
          "execution_count": 10
        }
      ]
    },
    {
      "cell_type": "markdown",
      "metadata": {
        "id": "2p_7IYOlHy7Z"
      },
      "source": [
        "### Counting the size of the dataframes (how many rows and columns in this dataframe)"
      ]
    },
    {
      "cell_type": "code",
      "metadata": {
        "id": "vRbz4hggfMmh",
        "colab": {
          "base_uri": "https://localhost:8080/",
          "height": 85
        },
        "outputId": "5aa245cf-ee04-42ac-e1da-9c31b2d71fdc"
      },
      "source": [
        "%%time\n",
        "# the Spark way\n",
        "print(dataset.count())\n",
        "print(len(dataset.columns))"
      ],
      "execution_count": null,
      "outputs": [
        {
          "output_type": "stream",
          "text": [
            "24770000\n",
            "6\n",
            "CPU times: user 1.74 ms, sys: 1.4 ms, total: 3.14 ms\n",
            "Wall time: 12.5 s\n"
          ],
          "name": "stdout"
        }
      ]
    },
    {
      "cell_type": "code",
      "metadata": {
        "id": "nSj9b8tVfxpi",
        "colab": {
          "base_uri": "https://localhost:8080/",
          "height": 170
        },
        "outputId": "9553141e-506b-462d-bc97-4bee4c6b3d1d"
      },
      "source": [
        "%%time\n",
        "#the Pandas way\n",
        "data_pd.count()"
      ],
      "execution_count": null,
      "outputs": [
        {
          "output_type": "stream",
          "text": [
            "CPU times: user 3.88 s, sys: 9.12 ms, total: 3.89 s\n",
            "Wall time: 3.89 s\n"
          ],
          "name": "stdout"
        },
        {
          "output_type": "execute_result",
          "data": {
            "text/plain": [
              "0    24665000\n",
              "1    24665000\n",
              "2    24665000\n",
              "3    24665000\n",
              "4    24665000\n",
              "5    24665000\n",
              "dtype: int64"
            ]
          },
          "metadata": {
            "tags": []
          },
          "execution_count": 13
        }
      ]
    },
    {
      "cell_type": "markdown",
      "metadata": {
        "id": "Nf4mdmNcJVLn"
      },
      "source": [
        "### Calculating the overall numeric represenation using describe()"
      ]
    },
    {
      "cell_type": "code",
      "metadata": {
        "id": "Y3KVWSkt9Z66",
        "colab": {
          "base_uri": "https://localhost:8080/",
          "height": 221
        },
        "outputId": "01b1c36d-ee62-4f2c-a74d-78ec40a7dc30"
      },
      "source": [
        "%%time\n",
        "#the Spark way\n",
        "dataset.describe().show()"
      ],
      "execution_count": null,
      "outputs": [
        {
          "output_type": "stream",
          "text": [
            "+-------+--------+------------------+----------------+------------------+------------------+--------------------+\n",
            "|summary|     _c0|               _c1|             _c2|               _c3|               _c4|                 _c5|\n",
            "+-------+--------+------------------+----------------+------------------+------------------+--------------------+\n",
            "|  count|24770000|          24770000|        24770000|          24770000|          24770000|            24770000|\n",
            "|   mean|    null|              25.5|            null|              null|26.725815502647993|                null|\n",
            "| stddev|    null|14.430869980959411|            null|              null|33.542871668988454|                null|\n",
            "|    min|  P10001|                 1|2016/04/12 18:29|      7up  355 Ml1|              0.13|Burkett Restauran...|\n",
            "|    max|   P9999|                50|2016/04/21 03:30|Zucchini - Yellow9|             469.8|     ddFoodSolutions|\n",
            "+-------+--------+------------------+----------------+------------------+------------------+--------------------+\n",
            "\n",
            "CPU times: user 40.5 ms, sys: 19.2 ms, total: 59.7 ms\n",
            "Wall time: 5min 49s\n"
          ],
          "name": "stdout"
        }
      ]
    },
    {
      "cell_type": "code",
      "metadata": {
        "id": "mzqFr7cVnn6J",
        "colab": {
          "base_uri": "https://localhost:8080/",
          "height": 331
        },
        "outputId": "622b9909-400e-4d3d-ad8c-4a6db4eedecc"
      },
      "source": [
        "%%time\n",
        "#the Pandas way\n",
        "data_pd.describe()"
      ],
      "execution_count": null,
      "outputs": [
        {
          "output_type": "stream",
          "text": [
            "CPU times: user 1.38 s, sys: 10.7 ms, total: 1.39 s\n",
            "Wall time: 1.4 s\n"
          ],
          "name": "stdout"
        },
        {
          "output_type": "execute_result",
          "data": {
            "text/html": [
              "<div>\n",
              "<style scoped>\n",
              "    .dataframe tbody tr th:only-of-type {\n",
              "        vertical-align: middle;\n",
              "    }\n",
              "\n",
              "    .dataframe tbody tr th {\n",
              "        vertical-align: top;\n",
              "    }\n",
              "\n",
              "    .dataframe thead th {\n",
              "        text-align: right;\n",
              "    }\n",
              "</style>\n",
              "<table border=\"1\" class=\"dataframe\">\n",
              "  <thead>\n",
              "    <tr style=\"text-align: right;\">\n",
              "      <th></th>\n",
              "      <th>1</th>\n",
              "      <th>4</th>\n",
              "    </tr>\n",
              "  </thead>\n",
              "  <tbody>\n",
              "    <tr>\n",
              "      <th>count</th>\n",
              "      <td>2.466500e+07</td>\n",
              "      <td>2.466500e+07</td>\n",
              "    </tr>\n",
              "    <tr>\n",
              "      <th>mean</th>\n",
              "      <td>2.550000e+01</td>\n",
              "      <td>2.672121e+01</td>\n",
              "    </tr>\n",
              "    <tr>\n",
              "      <th>std</th>\n",
              "      <td>1.443087e+01</td>\n",
              "      <td>3.355578e+01</td>\n",
              "    </tr>\n",
              "    <tr>\n",
              "      <th>min</th>\n",
              "      <td>1.000000e+00</td>\n",
              "      <td>1.300000e-01</td>\n",
              "    </tr>\n",
              "    <tr>\n",
              "      <th>25%</th>\n",
              "      <td>1.300000e+01</td>\n",
              "      <td>6.230000e+00</td>\n",
              "    </tr>\n",
              "    <tr>\n",
              "      <th>50%</th>\n",
              "      <td>2.550000e+01</td>\n",
              "      <td>1.677000e+01</td>\n",
              "    </tr>\n",
              "    <tr>\n",
              "      <th>75%</th>\n",
              "      <td>3.800000e+01</td>\n",
              "      <td>3.360000e+01</td>\n",
              "    </tr>\n",
              "    <tr>\n",
              "      <th>max</th>\n",
              "      <td>5.000000e+01</td>\n",
              "      <td>4.698000e+02</td>\n",
              "    </tr>\n",
              "  </tbody>\n",
              "</table>\n",
              "</div>"
            ],
            "text/plain": [
              "                  1             4\n",
              "count  2.466500e+07  2.466500e+07\n",
              "mean   2.550000e+01  2.672121e+01\n",
              "std    1.443087e+01  3.355578e+01\n",
              "min    1.000000e+00  1.300000e-01\n",
              "25%    1.300000e+01  6.230000e+00\n",
              "50%    2.550000e+01  1.677000e+01\n",
              "75%    3.800000e+01  3.360000e+01\n",
              "max    5.000000e+01  4.698000e+02"
            ]
          },
          "metadata": {
            "tags": []
          },
          "execution_count": 18
        }
      ]
    },
    {
      "cell_type": "markdown",
      "metadata": {
        "id": "xlbJ3CzZJx8r"
      },
      "source": [
        "### Looking for any null values in all columns"
      ]
    },
    {
      "cell_type": "code",
      "metadata": {
        "id": "-ZrLhI4P7g2h"
      },
      "source": [
        "from pyspark.sql.functions import isnan, when, count, col"
      ],
      "execution_count": null,
      "outputs": []
    },
    {
      "cell_type": "code",
      "metadata": {
        "id": "pZUNxF6Sk2h9",
        "colab": {
          "base_uri": "https://localhost:8080/",
          "height": 153
        },
        "outputId": "75ce8b3d-0572-445c-c65a-7736b95628da"
      },
      "source": [
        "%%time\n",
        "# the Spark approach\n",
        "\n",
        "dataset.select([count(when(isnan(c), c)).alias(c) for c in dataset.columns]).show()"
      ],
      "execution_count": null,
      "outputs": [
        {
          "output_type": "stream",
          "text": [
            "+---+---+---+---+---+---+\n",
            "|_c0|_c1|_c2|_c3|_c4|_c5|\n",
            "+---+---+---+---+---+---+\n",
            "|  0|  0|  0|  0|  0|  0|\n",
            "+---+---+---+---+---+---+\n",
            "\n",
            "CPU times: user 51.6 ms, sys: 18.7 ms, total: 70.3 ms\n",
            "Wall time: 4min 3s\n"
          ],
          "name": "stdout"
        }
      ]
    },
    {
      "cell_type": "code",
      "metadata": {
        "id": "krx01_w7k8o3",
        "colab": {
          "base_uri": "https://localhost:8080/",
          "height": 170
        },
        "outputId": "56f03495-ddf7-4d48-81db-1a0a6d5a4e71"
      },
      "source": [
        "%%time\n",
        "# the Pandas approach\n",
        "data_pd.isnull().sum()"
      ],
      "execution_count": null,
      "outputs": [
        {
          "output_type": "stream",
          "text": [
            "CPU times: user 3.45 s, sys: 697 µs, total: 3.45 s\n",
            "Wall time: 3.46 s\n"
          ],
          "name": "stdout"
        },
        {
          "output_type": "execute_result",
          "data": {
            "text/plain": [
              "0    0\n",
              "1    0\n",
              "2    0\n",
              "3    0\n",
              "4    0\n",
              "5    0\n",
              "dtype: int64"
            ]
          },
          "metadata": {
            "tags": []
          },
          "execution_count": 23
        }
      ]
    },
    {
      "cell_type": "markdown",
      "metadata": {
        "id": "l8TD7w-RJ53o"
      },
      "source": [
        "### Counting how many distinct values the second column has and how many occurences are in each distinct value"
      ]
    },
    {
      "cell_type": "code",
      "metadata": {
        "id": "1ZazJZVADpNL",
        "colab": {
          "base_uri": "https://localhost:8080/",
          "height": 68
        },
        "outputId": "53b31f52-485d-456d-b58f-2e69dcf52ed9"
      },
      "source": [
        "%%time\n",
        "# the Spark approach\n",
        "dataset.select(\"_c1\").distinct().count()"
      ],
      "execution_count": null,
      "outputs": [
        {
          "output_type": "stream",
          "text": [
            "CPU times: user 6.45 ms, sys: 4.07 ms, total: 10.5 ms\n",
            "Wall time: 34.6 s\n"
          ],
          "name": "stdout"
        },
        {
          "output_type": "execute_result",
          "data": {
            "text/plain": [
              "50"
            ]
          },
          "metadata": {
            "tags": []
          },
          "execution_count": 28
        }
      ]
    },
    {
      "cell_type": "code",
      "metadata": {
        "id": "2r9M2uE7D4Ae",
        "colab": {
          "base_uri": "https://localhost:8080/",
          "height": 459
        },
        "outputId": "8b4e0fcf-7611-4143-d43d-c39e4f5018da"
      },
      "source": [
        "dataset.groupby(\"_c1\").count().show()"
      ],
      "execution_count": null,
      "outputs": [
        {
          "output_type": "stream",
          "text": [
            "+---+------+\n",
            "|_c1| count|\n",
            "+---+------+\n",
            "| 31|495400|\n",
            "| 34|495400|\n",
            "| 28|495400|\n",
            "| 26|495400|\n",
            "| 27|495400|\n",
            "| 44|495400|\n",
            "| 12|495400|\n",
            "| 22|495400|\n",
            "| 47|495400|\n",
            "|  1|495400|\n",
            "| 13|495400|\n",
            "|  6|495400|\n",
            "| 16|495400|\n",
            "|  3|495400|\n",
            "| 20|495400|\n",
            "| 40|495400|\n",
            "| 48|495400|\n",
            "|  5|495400|\n",
            "| 19|495400|\n",
            "| 41|495400|\n",
            "+---+------+\n",
            "only showing top 20 rows\n",
            "\n"
          ],
          "name": "stdout"
        }
      ]
    },
    {
      "cell_type": "code",
      "metadata": {
        "id": "ILS6mukcOT-O",
        "colab": {
          "base_uri": "https://localhost:8080/",
          "height": 1000
        },
        "outputId": "c98ab685-0b2a-45fc-a19f-4cb53fb80459"
      },
      "source": [
        "%%time\n",
        "# the Pandas approach\n",
        "data_pd.groupby(1).count()"
      ],
      "execution_count": null,
      "outputs": [
        {
          "output_type": "stream",
          "text": [
            "CPU times: user 4.96 s, sys: 13.8 ms, total: 4.98 s\n",
            "Wall time: 4.98 s\n"
          ],
          "name": "stdout"
        },
        {
          "output_type": "execute_result",
          "data": {
            "text/html": [
              "<div>\n",
              "<style scoped>\n",
              "    .dataframe tbody tr th:only-of-type {\n",
              "        vertical-align: middle;\n",
              "    }\n",
              "\n",
              "    .dataframe tbody tr th {\n",
              "        vertical-align: top;\n",
              "    }\n",
              "\n",
              "    .dataframe thead th {\n",
              "        text-align: right;\n",
              "    }\n",
              "</style>\n",
              "<table border=\"1\" class=\"dataframe\">\n",
              "  <thead>\n",
              "    <tr style=\"text-align: right;\">\n",
              "      <th></th>\n",
              "      <th>0</th>\n",
              "      <th>2</th>\n",
              "      <th>3</th>\n",
              "      <th>4</th>\n",
              "      <th>5</th>\n",
              "    </tr>\n",
              "    <tr>\n",
              "      <th>1</th>\n",
              "      <th></th>\n",
              "      <th></th>\n",
              "      <th></th>\n",
              "      <th></th>\n",
              "      <th></th>\n",
              "    </tr>\n",
              "  </thead>\n",
              "  <tbody>\n",
              "    <tr>\n",
              "      <th>1</th>\n",
              "      <td>493300</td>\n",
              "      <td>493300</td>\n",
              "      <td>493300</td>\n",
              "      <td>493300</td>\n",
              "      <td>493300</td>\n",
              "    </tr>\n",
              "    <tr>\n",
              "      <th>2</th>\n",
              "      <td>493300</td>\n",
              "      <td>493300</td>\n",
              "      <td>493300</td>\n",
              "      <td>493300</td>\n",
              "      <td>493300</td>\n",
              "    </tr>\n",
              "    <tr>\n",
              "      <th>3</th>\n",
              "      <td>493300</td>\n",
              "      <td>493300</td>\n",
              "      <td>493300</td>\n",
              "      <td>493300</td>\n",
              "      <td>493300</td>\n",
              "    </tr>\n",
              "    <tr>\n",
              "      <th>4</th>\n",
              "      <td>493300</td>\n",
              "      <td>493300</td>\n",
              "      <td>493300</td>\n",
              "      <td>493300</td>\n",
              "      <td>493300</td>\n",
              "    </tr>\n",
              "    <tr>\n",
              "      <th>5</th>\n",
              "      <td>493300</td>\n",
              "      <td>493300</td>\n",
              "      <td>493300</td>\n",
              "      <td>493300</td>\n",
              "      <td>493300</td>\n",
              "    </tr>\n",
              "    <tr>\n",
              "      <th>6</th>\n",
              "      <td>493300</td>\n",
              "      <td>493300</td>\n",
              "      <td>493300</td>\n",
              "      <td>493300</td>\n",
              "      <td>493300</td>\n",
              "    </tr>\n",
              "    <tr>\n",
              "      <th>7</th>\n",
              "      <td>493300</td>\n",
              "      <td>493300</td>\n",
              "      <td>493300</td>\n",
              "      <td>493300</td>\n",
              "      <td>493300</td>\n",
              "    </tr>\n",
              "    <tr>\n",
              "      <th>8</th>\n",
              "      <td>493300</td>\n",
              "      <td>493300</td>\n",
              "      <td>493300</td>\n",
              "      <td>493300</td>\n",
              "      <td>493300</td>\n",
              "    </tr>\n",
              "    <tr>\n",
              "      <th>9</th>\n",
              "      <td>493300</td>\n",
              "      <td>493300</td>\n",
              "      <td>493300</td>\n",
              "      <td>493300</td>\n",
              "      <td>493300</td>\n",
              "    </tr>\n",
              "    <tr>\n",
              "      <th>10</th>\n",
              "      <td>493300</td>\n",
              "      <td>493300</td>\n",
              "      <td>493300</td>\n",
              "      <td>493300</td>\n",
              "      <td>493300</td>\n",
              "    </tr>\n",
              "    <tr>\n",
              "      <th>11</th>\n",
              "      <td>493300</td>\n",
              "      <td>493300</td>\n",
              "      <td>493300</td>\n",
              "      <td>493300</td>\n",
              "      <td>493300</td>\n",
              "    </tr>\n",
              "    <tr>\n",
              "      <th>12</th>\n",
              "      <td>493300</td>\n",
              "      <td>493300</td>\n",
              "      <td>493300</td>\n",
              "      <td>493300</td>\n",
              "      <td>493300</td>\n",
              "    </tr>\n",
              "    <tr>\n",
              "      <th>13</th>\n",
              "      <td>493300</td>\n",
              "      <td>493300</td>\n",
              "      <td>493300</td>\n",
              "      <td>493300</td>\n",
              "      <td>493300</td>\n",
              "    </tr>\n",
              "    <tr>\n",
              "      <th>14</th>\n",
              "      <td>493300</td>\n",
              "      <td>493300</td>\n",
              "      <td>493300</td>\n",
              "      <td>493300</td>\n",
              "      <td>493300</td>\n",
              "    </tr>\n",
              "    <tr>\n",
              "      <th>15</th>\n",
              "      <td>493300</td>\n",
              "      <td>493300</td>\n",
              "      <td>493300</td>\n",
              "      <td>493300</td>\n",
              "      <td>493300</td>\n",
              "    </tr>\n",
              "    <tr>\n",
              "      <th>16</th>\n",
              "      <td>493300</td>\n",
              "      <td>493300</td>\n",
              "      <td>493300</td>\n",
              "      <td>493300</td>\n",
              "      <td>493300</td>\n",
              "    </tr>\n",
              "    <tr>\n",
              "      <th>17</th>\n",
              "      <td>493300</td>\n",
              "      <td>493300</td>\n",
              "      <td>493300</td>\n",
              "      <td>493300</td>\n",
              "      <td>493300</td>\n",
              "    </tr>\n",
              "    <tr>\n",
              "      <th>18</th>\n",
              "      <td>493300</td>\n",
              "      <td>493300</td>\n",
              "      <td>493300</td>\n",
              "      <td>493300</td>\n",
              "      <td>493300</td>\n",
              "    </tr>\n",
              "    <tr>\n",
              "      <th>19</th>\n",
              "      <td>493300</td>\n",
              "      <td>493300</td>\n",
              "      <td>493300</td>\n",
              "      <td>493300</td>\n",
              "      <td>493300</td>\n",
              "    </tr>\n",
              "    <tr>\n",
              "      <th>20</th>\n",
              "      <td>493300</td>\n",
              "      <td>493300</td>\n",
              "      <td>493300</td>\n",
              "      <td>493300</td>\n",
              "      <td>493300</td>\n",
              "    </tr>\n",
              "    <tr>\n",
              "      <th>21</th>\n",
              "      <td>493300</td>\n",
              "      <td>493300</td>\n",
              "      <td>493300</td>\n",
              "      <td>493300</td>\n",
              "      <td>493300</td>\n",
              "    </tr>\n",
              "    <tr>\n",
              "      <th>22</th>\n",
              "      <td>493300</td>\n",
              "      <td>493300</td>\n",
              "      <td>493300</td>\n",
              "      <td>493300</td>\n",
              "      <td>493300</td>\n",
              "    </tr>\n",
              "    <tr>\n",
              "      <th>23</th>\n",
              "      <td>493300</td>\n",
              "      <td>493300</td>\n",
              "      <td>493300</td>\n",
              "      <td>493300</td>\n",
              "      <td>493300</td>\n",
              "    </tr>\n",
              "    <tr>\n",
              "      <th>24</th>\n",
              "      <td>493300</td>\n",
              "      <td>493300</td>\n",
              "      <td>493300</td>\n",
              "      <td>493300</td>\n",
              "      <td>493300</td>\n",
              "    </tr>\n",
              "    <tr>\n",
              "      <th>25</th>\n",
              "      <td>493300</td>\n",
              "      <td>493300</td>\n",
              "      <td>493300</td>\n",
              "      <td>493300</td>\n",
              "      <td>493300</td>\n",
              "    </tr>\n",
              "    <tr>\n",
              "      <th>26</th>\n",
              "      <td>493300</td>\n",
              "      <td>493300</td>\n",
              "      <td>493300</td>\n",
              "      <td>493300</td>\n",
              "      <td>493300</td>\n",
              "    </tr>\n",
              "    <tr>\n",
              "      <th>27</th>\n",
              "      <td>493300</td>\n",
              "      <td>493300</td>\n",
              "      <td>493300</td>\n",
              "      <td>493300</td>\n",
              "      <td>493300</td>\n",
              "    </tr>\n",
              "    <tr>\n",
              "      <th>28</th>\n",
              "      <td>493300</td>\n",
              "      <td>493300</td>\n",
              "      <td>493300</td>\n",
              "      <td>493300</td>\n",
              "      <td>493300</td>\n",
              "    </tr>\n",
              "    <tr>\n",
              "      <th>29</th>\n",
              "      <td>493300</td>\n",
              "      <td>493300</td>\n",
              "      <td>493300</td>\n",
              "      <td>493300</td>\n",
              "      <td>493300</td>\n",
              "    </tr>\n",
              "    <tr>\n",
              "      <th>30</th>\n",
              "      <td>493300</td>\n",
              "      <td>493300</td>\n",
              "      <td>493300</td>\n",
              "      <td>493300</td>\n",
              "      <td>493300</td>\n",
              "    </tr>\n",
              "    <tr>\n",
              "      <th>31</th>\n",
              "      <td>493300</td>\n",
              "      <td>493300</td>\n",
              "      <td>493300</td>\n",
              "      <td>493300</td>\n",
              "      <td>493300</td>\n",
              "    </tr>\n",
              "    <tr>\n",
              "      <th>32</th>\n",
              "      <td>493300</td>\n",
              "      <td>493300</td>\n",
              "      <td>493300</td>\n",
              "      <td>493300</td>\n",
              "      <td>493300</td>\n",
              "    </tr>\n",
              "    <tr>\n",
              "      <th>33</th>\n",
              "      <td>493300</td>\n",
              "      <td>493300</td>\n",
              "      <td>493300</td>\n",
              "      <td>493300</td>\n",
              "      <td>493300</td>\n",
              "    </tr>\n",
              "    <tr>\n",
              "      <th>34</th>\n",
              "      <td>493300</td>\n",
              "      <td>493300</td>\n",
              "      <td>493300</td>\n",
              "      <td>493300</td>\n",
              "      <td>493300</td>\n",
              "    </tr>\n",
              "    <tr>\n",
              "      <th>35</th>\n",
              "      <td>493300</td>\n",
              "      <td>493300</td>\n",
              "      <td>493300</td>\n",
              "      <td>493300</td>\n",
              "      <td>493300</td>\n",
              "    </tr>\n",
              "    <tr>\n",
              "      <th>36</th>\n",
              "      <td>493300</td>\n",
              "      <td>493300</td>\n",
              "      <td>493300</td>\n",
              "      <td>493300</td>\n",
              "      <td>493300</td>\n",
              "    </tr>\n",
              "    <tr>\n",
              "      <th>37</th>\n",
              "      <td>493300</td>\n",
              "      <td>493300</td>\n",
              "      <td>493300</td>\n",
              "      <td>493300</td>\n",
              "      <td>493300</td>\n",
              "    </tr>\n",
              "    <tr>\n",
              "      <th>38</th>\n",
              "      <td>493300</td>\n",
              "      <td>493300</td>\n",
              "      <td>493300</td>\n",
              "      <td>493300</td>\n",
              "      <td>493300</td>\n",
              "    </tr>\n",
              "    <tr>\n",
              "      <th>39</th>\n",
              "      <td>493300</td>\n",
              "      <td>493300</td>\n",
              "      <td>493300</td>\n",
              "      <td>493300</td>\n",
              "      <td>493300</td>\n",
              "    </tr>\n",
              "    <tr>\n",
              "      <th>40</th>\n",
              "      <td>493300</td>\n",
              "      <td>493300</td>\n",
              "      <td>493300</td>\n",
              "      <td>493300</td>\n",
              "      <td>493300</td>\n",
              "    </tr>\n",
              "    <tr>\n",
              "      <th>41</th>\n",
              "      <td>493300</td>\n",
              "      <td>493300</td>\n",
              "      <td>493300</td>\n",
              "      <td>493300</td>\n",
              "      <td>493300</td>\n",
              "    </tr>\n",
              "    <tr>\n",
              "      <th>42</th>\n",
              "      <td>493300</td>\n",
              "      <td>493300</td>\n",
              "      <td>493300</td>\n",
              "      <td>493300</td>\n",
              "      <td>493300</td>\n",
              "    </tr>\n",
              "    <tr>\n",
              "      <th>43</th>\n",
              "      <td>493300</td>\n",
              "      <td>493300</td>\n",
              "      <td>493300</td>\n",
              "      <td>493300</td>\n",
              "      <td>493300</td>\n",
              "    </tr>\n",
              "    <tr>\n",
              "      <th>44</th>\n",
              "      <td>493300</td>\n",
              "      <td>493300</td>\n",
              "      <td>493300</td>\n",
              "      <td>493300</td>\n",
              "      <td>493300</td>\n",
              "    </tr>\n",
              "    <tr>\n",
              "      <th>45</th>\n",
              "      <td>493300</td>\n",
              "      <td>493300</td>\n",
              "      <td>493300</td>\n",
              "      <td>493300</td>\n",
              "      <td>493300</td>\n",
              "    </tr>\n",
              "    <tr>\n",
              "      <th>46</th>\n",
              "      <td>493300</td>\n",
              "      <td>493300</td>\n",
              "      <td>493300</td>\n",
              "      <td>493300</td>\n",
              "      <td>493300</td>\n",
              "    </tr>\n",
              "    <tr>\n",
              "      <th>47</th>\n",
              "      <td>493300</td>\n",
              "      <td>493300</td>\n",
              "      <td>493300</td>\n",
              "      <td>493300</td>\n",
              "      <td>493300</td>\n",
              "    </tr>\n",
              "    <tr>\n",
              "      <th>48</th>\n",
              "      <td>493300</td>\n",
              "      <td>493300</td>\n",
              "      <td>493300</td>\n",
              "      <td>493300</td>\n",
              "      <td>493300</td>\n",
              "    </tr>\n",
              "    <tr>\n",
              "      <th>49</th>\n",
              "      <td>493300</td>\n",
              "      <td>493300</td>\n",
              "      <td>493300</td>\n",
              "      <td>493300</td>\n",
              "      <td>493300</td>\n",
              "    </tr>\n",
              "    <tr>\n",
              "      <th>50</th>\n",
              "      <td>493300</td>\n",
              "      <td>493300</td>\n",
              "      <td>493300</td>\n",
              "      <td>493300</td>\n",
              "      <td>493300</td>\n",
              "    </tr>\n",
              "  </tbody>\n",
              "</table>\n",
              "</div>"
            ],
            "text/plain": [
              "         0       2       3       4       5\n",
              "1                                         \n",
              "1   493300  493300  493300  493300  493300\n",
              "2   493300  493300  493300  493300  493300\n",
              "3   493300  493300  493300  493300  493300\n",
              "4   493300  493300  493300  493300  493300\n",
              "5   493300  493300  493300  493300  493300\n",
              "6   493300  493300  493300  493300  493300\n",
              "7   493300  493300  493300  493300  493300\n",
              "8   493300  493300  493300  493300  493300\n",
              "9   493300  493300  493300  493300  493300\n",
              "10  493300  493300  493300  493300  493300\n",
              "11  493300  493300  493300  493300  493300\n",
              "12  493300  493300  493300  493300  493300\n",
              "13  493300  493300  493300  493300  493300\n",
              "14  493300  493300  493300  493300  493300\n",
              "15  493300  493300  493300  493300  493300\n",
              "16  493300  493300  493300  493300  493300\n",
              "17  493300  493300  493300  493300  493300\n",
              "18  493300  493300  493300  493300  493300\n",
              "19  493300  493300  493300  493300  493300\n",
              "20  493300  493300  493300  493300  493300\n",
              "21  493300  493300  493300  493300  493300\n",
              "22  493300  493300  493300  493300  493300\n",
              "23  493300  493300  493300  493300  493300\n",
              "24  493300  493300  493300  493300  493300\n",
              "25  493300  493300  493300  493300  493300\n",
              "26  493300  493300  493300  493300  493300\n",
              "27  493300  493300  493300  493300  493300\n",
              "28  493300  493300  493300  493300  493300\n",
              "29  493300  493300  493300  493300  493300\n",
              "30  493300  493300  493300  493300  493300\n",
              "31  493300  493300  493300  493300  493300\n",
              "32  493300  493300  493300  493300  493300\n",
              "33  493300  493300  493300  493300  493300\n",
              "34  493300  493300  493300  493300  493300\n",
              "35  493300  493300  493300  493300  493300\n",
              "36  493300  493300  493300  493300  493300\n",
              "37  493300  493300  493300  493300  493300\n",
              "38  493300  493300  493300  493300  493300\n",
              "39  493300  493300  493300  493300  493300\n",
              "40  493300  493300  493300  493300  493300\n",
              "41  493300  493300  493300  493300  493300\n",
              "42  493300  493300  493300  493300  493300\n",
              "43  493300  493300  493300  493300  493300\n",
              "44  493300  493300  493300  493300  493300\n",
              "45  493300  493300  493300  493300  493300\n",
              "46  493300  493300  493300  493300  493300\n",
              "47  493300  493300  493300  493300  493300\n",
              "48  493300  493300  493300  493300  493300\n",
              "49  493300  493300  493300  493300  493300\n",
              "50  493300  493300  493300  493300  493300"
            ]
          },
          "metadata": {
            "tags": []
          },
          "execution_count": 31
        }
      ]
    },
    {
      "cell_type": "markdown",
      "metadata": {
        "id": "WKO8vArRiqmU"
      },
      "source": [
        "### Filtering data with second column as P11"
      ]
    },
    {
      "cell_type": "code",
      "metadata": {
        "id": "RhF1xkv0I7Hm",
        "colab": {
          "base_uri": "https://localhost:8080/",
          "height": 493
        },
        "outputId": "6e2abbcd-0a16-4760-e6c6-06a976c8026c"
      },
      "source": [
        "%%time\n",
        "# the Spark approach with SQL\n",
        "dataset.createOrReplaceTempView(\"dataset\")\n",
        "spark.sql(\"select * from dataset where _c0 ='P11'\").show()"
      ],
      "execution_count": null,
      "outputs": [
        {
          "output_type": "stream",
          "text": [
            "+---+---+----------------+--------------+-----+--------------------+\n",
            "|_c0|_c1|             _c2|           _c3|  _c4|                 _c5|\n",
            "+---+---+----------------+--------------+-----+--------------------+\n",
            "|P11|  1|2016/04/12 18:29|Oil - Avocado1|13.15|Raising Cane's Re...|\n",
            "|P11|  1|2016/04/13 04:56|Oil - Avocado1|13.15|Raising Cane's Re...|\n",
            "|P11|  1|2016/04/14 14:33|Oil - Avocado1|13.15|Raising Cane's Re...|\n",
            "|P11|  1|2016/04/15 13:06|Oil - Avocado1|13.15|Raising Cane's Re...|\n",
            "|P11|  1|2016/04/16 13:42|Oil - Avocado1|13.15|Raising Cane's Re...|\n",
            "|P11|  1|2016/04/17 10:36|Oil - Avocado1|13.15|Raising Cane's Re...|\n",
            "|P11|  1|2016/04/18 05:13|Oil - Avocado1|13.15|Raising Cane's Re...|\n",
            "|P11|  1|2016/04/19 17:04|Oil - Avocado1|13.15|Raising Cane's Re...|\n",
            "|P11|  1|2016/04/20 07:13|Oil - Avocado1|13.15|Raising Cane's Re...|\n",
            "|P11|  1|2016/04/21 03:30|Oil - Avocado1|13.15|Raising Cane's Re...|\n",
            "|P11|  2|2016/04/12 18:29|Oil - Avocado1|13.15|Raising Cane's Re...|\n",
            "|P11|  2|2016/04/13 04:56|Oil - Avocado1|13.15|Raising Cane's Re...|\n",
            "|P11|  2|2016/04/14 14:33|Oil - Avocado1|13.15|Raising Cane's Re...|\n",
            "|P11|  2|2016/04/15 13:06|Oil - Avocado1|13.15|Raising Cane's Re...|\n",
            "|P11|  2|2016/04/16 13:42|Oil - Avocado1|13.15|Raising Cane's Re...|\n",
            "|P11|  2|2016/04/17 10:36|Oil - Avocado1|13.15|Raising Cane's Re...|\n",
            "|P11|  2|2016/04/18 05:13|Oil - Avocado1|13.15|Raising Cane's Re...|\n",
            "|P11|  2|2016/04/19 17:04|Oil - Avocado1|13.15|Raising Cane's Re...|\n",
            "|P11|  2|2016/04/20 07:13|Oil - Avocado1|13.15|Raising Cane's Re...|\n",
            "|P11|  2|2016/04/21 03:30|Oil - Avocado1|13.15|Raising Cane's Re...|\n",
            "+---+---+----------------+--------------+-----+--------------------+\n",
            "only showing top 20 rows\n",
            "\n",
            "CPU times: user 825 µs, sys: 1.95 ms, total: 2.78 ms\n",
            "Wall time: 2.58 s\n"
          ],
          "name": "stdout"
        }
      ]
    },
    {
      "cell_type": "code",
      "metadata": {
        "id": "2TAp27XeFM86",
        "colab": {
          "base_uri": "https://localhost:8080/",
          "height": 459
        },
        "outputId": "2a68db01-cb49-4837-fa9e-1bac5dc164cd"
      },
      "source": [
        "dataset.filter(dataset._c0==\"P11\").show()"
      ],
      "execution_count": null,
      "outputs": [
        {
          "output_type": "stream",
          "text": [
            "+---+---+----------------+--------------+-----+--------------------+\n",
            "|_c0|_c1|             _c2|           _c3|  _c4|                 _c5|\n",
            "+---+---+----------------+--------------+-----+--------------------+\n",
            "|P11|  1|2016/04/12 18:29|Oil - Avocado1|13.15|Raising Cane's Re...|\n",
            "|P11|  1|2016/04/13 04:56|Oil - Avocado1|13.15|Raising Cane's Re...|\n",
            "|P11|  1|2016/04/14 14:33|Oil - Avocado1|13.15|Raising Cane's Re...|\n",
            "|P11|  1|2016/04/15 13:06|Oil - Avocado1|13.15|Raising Cane's Re...|\n",
            "|P11|  1|2016/04/16 13:42|Oil - Avocado1|13.15|Raising Cane's Re...|\n",
            "|P11|  1|2016/04/17 10:36|Oil - Avocado1|13.15|Raising Cane's Re...|\n",
            "|P11|  1|2016/04/18 05:13|Oil - Avocado1|13.15|Raising Cane's Re...|\n",
            "|P11|  1|2016/04/19 17:04|Oil - Avocado1|13.15|Raising Cane's Re...|\n",
            "|P11|  1|2016/04/20 07:13|Oil - Avocado1|13.15|Raising Cane's Re...|\n",
            "|P11|  1|2016/04/21 03:30|Oil - Avocado1|13.15|Raising Cane's Re...|\n",
            "|P11|  2|2016/04/12 18:29|Oil - Avocado1|13.15|Raising Cane's Re...|\n",
            "|P11|  2|2016/04/13 04:56|Oil - Avocado1|13.15|Raising Cane's Re...|\n",
            "|P11|  2|2016/04/14 14:33|Oil - Avocado1|13.15|Raising Cane's Re...|\n",
            "|P11|  2|2016/04/15 13:06|Oil - Avocado1|13.15|Raising Cane's Re...|\n",
            "|P11|  2|2016/04/16 13:42|Oil - Avocado1|13.15|Raising Cane's Re...|\n",
            "|P11|  2|2016/04/17 10:36|Oil - Avocado1|13.15|Raising Cane's Re...|\n",
            "|P11|  2|2016/04/18 05:13|Oil - Avocado1|13.15|Raising Cane's Re...|\n",
            "|P11|  2|2016/04/19 17:04|Oil - Avocado1|13.15|Raising Cane's Re...|\n",
            "|P11|  2|2016/04/20 07:13|Oil - Avocado1|13.15|Raising Cane's Re...|\n",
            "|P11|  2|2016/04/21 03:30|Oil - Avocado1|13.15|Raising Cane's Re...|\n",
            "+---+---+----------------+--------------+-----+--------------------+\n",
            "only showing top 20 rows\n",
            "\n"
          ],
          "name": "stdout"
        }
      ]
    },
    {
      "cell_type": "code",
      "metadata": {
        "id": "qo3zCP0DpxXs",
        "colab": {
          "base_uri": "https://localhost:8080/",
          "height": 493
        },
        "outputId": "93fd3e6d-8174-4f13-8e56-5975e07ce175"
      },
      "source": [
        "%%time\n",
        "# the Spark approach with filtering\n",
        "dataset.filter(col(\"_c0\")==\"P11\").show()"
      ],
      "execution_count": null,
      "outputs": [
        {
          "output_type": "stream",
          "text": [
            "+---+---+----------------+--------------+-----+--------------------+\n",
            "|_c0|_c1|             _c2|           _c3|  _c4|                 _c5|\n",
            "+---+---+----------------+--------------+-----+--------------------+\n",
            "|P11|  1|2016/04/12 18:29|Oil - Avocado1|13.15|Raising Cane's Re...|\n",
            "|P11|  1|2016/04/13 04:56|Oil - Avocado1|13.15|Raising Cane's Re...|\n",
            "|P11|  1|2016/04/14 14:33|Oil - Avocado1|13.15|Raising Cane's Re...|\n",
            "|P11|  1|2016/04/15 13:06|Oil - Avocado1|13.15|Raising Cane's Re...|\n",
            "|P11|  1|2016/04/16 13:42|Oil - Avocado1|13.15|Raising Cane's Re...|\n",
            "|P11|  1|2016/04/17 10:36|Oil - Avocado1|13.15|Raising Cane's Re...|\n",
            "|P11|  1|2016/04/18 05:13|Oil - Avocado1|13.15|Raising Cane's Re...|\n",
            "|P11|  1|2016/04/19 17:04|Oil - Avocado1|13.15|Raising Cane's Re...|\n",
            "|P11|  1|2016/04/20 07:13|Oil - Avocado1|13.15|Raising Cane's Re...|\n",
            "|P11|  1|2016/04/21 03:30|Oil - Avocado1|13.15|Raising Cane's Re...|\n",
            "|P11|  2|2016/04/12 18:29|Oil - Avocado1|13.15|Raising Cane's Re...|\n",
            "|P11|  2|2016/04/13 04:56|Oil - Avocado1|13.15|Raising Cane's Re...|\n",
            "|P11|  2|2016/04/14 14:33|Oil - Avocado1|13.15|Raising Cane's Re...|\n",
            "|P11|  2|2016/04/15 13:06|Oil - Avocado1|13.15|Raising Cane's Re...|\n",
            "|P11|  2|2016/04/16 13:42|Oil - Avocado1|13.15|Raising Cane's Re...|\n",
            "|P11|  2|2016/04/17 10:36|Oil - Avocado1|13.15|Raising Cane's Re...|\n",
            "|P11|  2|2016/04/18 05:13|Oil - Avocado1|13.15|Raising Cane's Re...|\n",
            "|P11|  2|2016/04/19 17:04|Oil - Avocado1|13.15|Raising Cane's Re...|\n",
            "|P11|  2|2016/04/20 07:13|Oil - Avocado1|13.15|Raising Cane's Re...|\n",
            "|P11|  2|2016/04/21 03:30|Oil - Avocado1|13.15|Raising Cane's Re...|\n",
            "+---+---+----------------+--------------+-----+--------------------+\n",
            "only showing top 20 rows\n",
            "\n",
            "CPU times: user 2.16 ms, sys: 1.06 ms, total: 3.23 ms\n",
            "Wall time: 2.62 s\n"
          ],
          "name": "stdout"
        }
      ]
    },
    {
      "cell_type": "code",
      "metadata": {
        "id": "p9HxpajjpfV1",
        "colab": {
          "base_uri": "https://localhost:8080/",
          "height": 453
        },
        "outputId": "1d137529-6276-497e-d3b7-f7c4e7a3b5f0"
      },
      "source": [
        "%%time\n",
        "# the Pandas approach\n",
        "data_pd.loc[data_pd[0]=='P11']"
      ],
      "execution_count": null,
      "outputs": [
        {
          "output_type": "stream",
          "text": [
            "CPU times: user 1.09 s, sys: 1.94 ms, total: 1.09 s\n",
            "Wall time: 1.09 s\n"
          ],
          "name": "stdout"
        },
        {
          "output_type": "execute_result",
          "data": {
            "text/html": [
              "<div>\n",
              "<style scoped>\n",
              "    .dataframe tbody tr th:only-of-type {\n",
              "        vertical-align: middle;\n",
              "    }\n",
              "\n",
              "    .dataframe tbody tr th {\n",
              "        vertical-align: top;\n",
              "    }\n",
              "\n",
              "    .dataframe thead th {\n",
              "        text-align: right;\n",
              "    }\n",
              "</style>\n",
              "<table border=\"1\" class=\"dataframe\">\n",
              "  <thead>\n",
              "    <tr style=\"text-align: right;\">\n",
              "      <th></th>\n",
              "      <th>0</th>\n",
              "      <th>1</th>\n",
              "      <th>2</th>\n",
              "      <th>3</th>\n",
              "      <th>4</th>\n",
              "      <th>5</th>\n",
              "    </tr>\n",
              "  </thead>\n",
              "  <tbody>\n",
              "    <tr>\n",
              "      <th>0</th>\n",
              "      <td>P11</td>\n",
              "      <td>1</td>\n",
              "      <td>2016/04/12 18:29</td>\n",
              "      <td>Oil - Avocado1</td>\n",
              "      <td>13.15</td>\n",
              "      <td>Raising Cane's Restaurants</td>\n",
              "    </tr>\n",
              "    <tr>\n",
              "      <th>49330</th>\n",
              "      <td>P11</td>\n",
              "      <td>1</td>\n",
              "      <td>2016/04/13 04:56</td>\n",
              "      <td>Oil - Avocado1</td>\n",
              "      <td>13.15</td>\n",
              "      <td>Raising Cane's Restaurants</td>\n",
              "    </tr>\n",
              "    <tr>\n",
              "      <th>98660</th>\n",
              "      <td>P11</td>\n",
              "      <td>1</td>\n",
              "      <td>2016/04/14 14:33</td>\n",
              "      <td>Oil - Avocado1</td>\n",
              "      <td>13.15</td>\n",
              "      <td>Raising Cane's Restaurants</td>\n",
              "    </tr>\n",
              "    <tr>\n",
              "      <th>147990</th>\n",
              "      <td>P11</td>\n",
              "      <td>1</td>\n",
              "      <td>2016/04/15 13:06</td>\n",
              "      <td>Oil - Avocado1</td>\n",
              "      <td>13.15</td>\n",
              "      <td>Raising Cane's Restaurants</td>\n",
              "    </tr>\n",
              "    <tr>\n",
              "      <th>197320</th>\n",
              "      <td>P11</td>\n",
              "      <td>1</td>\n",
              "      <td>2016/04/16 13:42</td>\n",
              "      <td>Oil - Avocado1</td>\n",
              "      <td>13.15</td>\n",
              "      <td>Raising Cane's Restaurants</td>\n",
              "    </tr>\n",
              "    <tr>\n",
              "      <th>...</th>\n",
              "      <td>...</td>\n",
              "      <td>...</td>\n",
              "      <td>...</td>\n",
              "      <td>...</td>\n",
              "      <td>...</td>\n",
              "      <td>...</td>\n",
              "    </tr>\n",
              "    <tr>\n",
              "      <th>24418350</th>\n",
              "      <td>P11</td>\n",
              "      <td>50</td>\n",
              "      <td>2016/04/17 10:36</td>\n",
              "      <td>Oil - Avocado1</td>\n",
              "      <td>13.15</td>\n",
              "      <td>Raising Cane's Restaurants</td>\n",
              "    </tr>\n",
              "    <tr>\n",
              "      <th>24467680</th>\n",
              "      <td>P11</td>\n",
              "      <td>50</td>\n",
              "      <td>2016/04/18 05:13</td>\n",
              "      <td>Oil - Avocado1</td>\n",
              "      <td>13.15</td>\n",
              "      <td>Raising Cane's Restaurants</td>\n",
              "    </tr>\n",
              "    <tr>\n",
              "      <th>24517010</th>\n",
              "      <td>P11</td>\n",
              "      <td>50</td>\n",
              "      <td>2016/04/19 17:04</td>\n",
              "      <td>Oil - Avocado1</td>\n",
              "      <td>13.15</td>\n",
              "      <td>Raising Cane's Restaurants</td>\n",
              "    </tr>\n",
              "    <tr>\n",
              "      <th>24566340</th>\n",
              "      <td>P11</td>\n",
              "      <td>50</td>\n",
              "      <td>2016/04/20 07:13</td>\n",
              "      <td>Oil - Avocado1</td>\n",
              "      <td>13.15</td>\n",
              "      <td>Raising Cane's Restaurants</td>\n",
              "    </tr>\n",
              "    <tr>\n",
              "      <th>24615670</th>\n",
              "      <td>P11</td>\n",
              "      <td>50</td>\n",
              "      <td>2016/04/21 03:30</td>\n",
              "      <td>Oil - Avocado1</td>\n",
              "      <td>13.15</td>\n",
              "      <td>Raising Cane's Restaurants</td>\n",
              "    </tr>\n",
              "  </tbody>\n",
              "</table>\n",
              "<p>500 rows × 6 columns</p>\n",
              "</div>"
            ],
            "text/plain": [
              "            0   1  ...      4                           5\n",
              "0         P11   1  ...  13.15  Raising Cane's Restaurants\n",
              "49330     P11   1  ...  13.15  Raising Cane's Restaurants\n",
              "98660     P11   1  ...  13.15  Raising Cane's Restaurants\n",
              "147990    P11   1  ...  13.15  Raising Cane's Restaurants\n",
              "197320    P11   1  ...  13.15  Raising Cane's Restaurants\n",
              "...       ...  ..  ...    ...                         ...\n",
              "24418350  P11  50  ...  13.15  Raising Cane's Restaurants\n",
              "24467680  P11  50  ...  13.15  Raising Cane's Restaurants\n",
              "24517010  P11  50  ...  13.15  Raising Cane's Restaurants\n",
              "24566340  P11  50  ...  13.15  Raising Cane's Restaurants\n",
              "24615670  P11  50  ...  13.15  Raising Cane's Restaurants\n",
              "\n",
              "[500 rows x 6 columns]"
            ]
          },
          "metadata": {
            "tags": []
          },
          "execution_count": 44
        }
      ]
    },
    {
      "cell_type": "code",
      "metadata": {
        "id": "au0dGsmHHNn-",
        "colab": {
          "base_uri": "https://localhost:8080/",
          "height": 419
        },
        "outputId": "4e1c1c23-5225-4e27-a9dc-b7175ff6ee93"
      },
      "source": [
        "data_pd[data_pd.iloc[:,0]=='P11']"
      ],
      "execution_count": null,
      "outputs": [
        {
          "output_type": "execute_result",
          "data": {
            "text/html": [
              "<div>\n",
              "<style scoped>\n",
              "    .dataframe tbody tr th:only-of-type {\n",
              "        vertical-align: middle;\n",
              "    }\n",
              "\n",
              "    .dataframe tbody tr th {\n",
              "        vertical-align: top;\n",
              "    }\n",
              "\n",
              "    .dataframe thead th {\n",
              "        text-align: right;\n",
              "    }\n",
              "</style>\n",
              "<table border=\"1\" class=\"dataframe\">\n",
              "  <thead>\n",
              "    <tr style=\"text-align: right;\">\n",
              "      <th></th>\n",
              "      <th>0</th>\n",
              "      <th>1</th>\n",
              "      <th>2</th>\n",
              "      <th>3</th>\n",
              "      <th>4</th>\n",
              "      <th>5</th>\n",
              "    </tr>\n",
              "  </thead>\n",
              "  <tbody>\n",
              "    <tr>\n",
              "      <th>0</th>\n",
              "      <td>P11</td>\n",
              "      <td>1</td>\n",
              "      <td>2016/04/12 18:29</td>\n",
              "      <td>Oil - Avocado1</td>\n",
              "      <td>13.15</td>\n",
              "      <td>Raising Cane's Restaurants</td>\n",
              "    </tr>\n",
              "    <tr>\n",
              "      <th>49330</th>\n",
              "      <td>P11</td>\n",
              "      <td>1</td>\n",
              "      <td>2016/04/13 04:56</td>\n",
              "      <td>Oil - Avocado1</td>\n",
              "      <td>13.15</td>\n",
              "      <td>Raising Cane's Restaurants</td>\n",
              "    </tr>\n",
              "    <tr>\n",
              "      <th>98660</th>\n",
              "      <td>P11</td>\n",
              "      <td>1</td>\n",
              "      <td>2016/04/14 14:33</td>\n",
              "      <td>Oil - Avocado1</td>\n",
              "      <td>13.15</td>\n",
              "      <td>Raising Cane's Restaurants</td>\n",
              "    </tr>\n",
              "    <tr>\n",
              "      <th>147990</th>\n",
              "      <td>P11</td>\n",
              "      <td>1</td>\n",
              "      <td>2016/04/15 13:06</td>\n",
              "      <td>Oil - Avocado1</td>\n",
              "      <td>13.15</td>\n",
              "      <td>Raising Cane's Restaurants</td>\n",
              "    </tr>\n",
              "    <tr>\n",
              "      <th>197320</th>\n",
              "      <td>P11</td>\n",
              "      <td>1</td>\n",
              "      <td>2016/04/16 13:42</td>\n",
              "      <td>Oil - Avocado1</td>\n",
              "      <td>13.15</td>\n",
              "      <td>Raising Cane's Restaurants</td>\n",
              "    </tr>\n",
              "    <tr>\n",
              "      <th>...</th>\n",
              "      <td>...</td>\n",
              "      <td>...</td>\n",
              "      <td>...</td>\n",
              "      <td>...</td>\n",
              "      <td>...</td>\n",
              "      <td>...</td>\n",
              "    </tr>\n",
              "    <tr>\n",
              "      <th>24418350</th>\n",
              "      <td>P11</td>\n",
              "      <td>50</td>\n",
              "      <td>2016/04/17 10:36</td>\n",
              "      <td>Oil - Avocado1</td>\n",
              "      <td>13.15</td>\n",
              "      <td>Raising Cane's Restaurants</td>\n",
              "    </tr>\n",
              "    <tr>\n",
              "      <th>24467680</th>\n",
              "      <td>P11</td>\n",
              "      <td>50</td>\n",
              "      <td>2016/04/18 05:13</td>\n",
              "      <td>Oil - Avocado1</td>\n",
              "      <td>13.15</td>\n",
              "      <td>Raising Cane's Restaurants</td>\n",
              "    </tr>\n",
              "    <tr>\n",
              "      <th>24517010</th>\n",
              "      <td>P11</td>\n",
              "      <td>50</td>\n",
              "      <td>2016/04/19 17:04</td>\n",
              "      <td>Oil - Avocado1</td>\n",
              "      <td>13.15</td>\n",
              "      <td>Raising Cane's Restaurants</td>\n",
              "    </tr>\n",
              "    <tr>\n",
              "      <th>24566340</th>\n",
              "      <td>P11</td>\n",
              "      <td>50</td>\n",
              "      <td>2016/04/20 07:13</td>\n",
              "      <td>Oil - Avocado1</td>\n",
              "      <td>13.15</td>\n",
              "      <td>Raising Cane's Restaurants</td>\n",
              "    </tr>\n",
              "    <tr>\n",
              "      <th>24615670</th>\n",
              "      <td>P11</td>\n",
              "      <td>50</td>\n",
              "      <td>2016/04/21 03:30</td>\n",
              "      <td>Oil - Avocado1</td>\n",
              "      <td>13.15</td>\n",
              "      <td>Raising Cane's Restaurants</td>\n",
              "    </tr>\n",
              "  </tbody>\n",
              "</table>\n",
              "<p>500 rows × 6 columns</p>\n",
              "</div>"
            ],
            "text/plain": [
              "            0   1  ...      4                           5\n",
              "0         P11   1  ...  13.15  Raising Cane's Restaurants\n",
              "49330     P11   1  ...  13.15  Raising Cane's Restaurants\n",
              "98660     P11   1  ...  13.15  Raising Cane's Restaurants\n",
              "147990    P11   1  ...  13.15  Raising Cane's Restaurants\n",
              "197320    P11   1  ...  13.15  Raising Cane's Restaurants\n",
              "...       ...  ..  ...    ...                         ...\n",
              "24418350  P11  50  ...  13.15  Raising Cane's Restaurants\n",
              "24467680  P11  50  ...  13.15  Raising Cane's Restaurants\n",
              "24517010  P11  50  ...  13.15  Raising Cane's Restaurants\n",
              "24566340  P11  50  ...  13.15  Raising Cane's Restaurants\n",
              "24615670  P11  50  ...  13.15  Raising Cane's Restaurants\n",
              "\n",
              "[500 rows x 6 columns]"
            ]
          },
          "metadata": {
            "tags": []
          },
          "execution_count": 46
        }
      ]
    }
  ]
}